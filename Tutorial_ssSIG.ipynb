{
 "cells": [
  {
   "cell_type": "markdown",
   "id": "fce9ca18-a337-4646-bec6-1f57ffcc4108",
   "metadata": {},
   "source": [
    "# Tutorial for the ssSIG package"
   ]
  },
  {
   "cell_type": "code",
   "execution_count": 3,
   "id": "c696a956-164a-4ba7-9f59-b96161360d1b",
   "metadata": {},
   "outputs": [],
   "source": [
    "import os\n",
    "import numpy as np\n",
    "import pandas as pd\n",
    "import matplotlib.pyplot as plt\n",
    "import seaborn as sns\n",
    "\n",
    "from scipy.stats import variation    #https://docs.scipy.org/doc/scipy-1.8.0/html-scipyorg/reference/generated/scipy.stats.variation.html\n",
    "from scipy.stats import pointbiserialr\n",
    "from scipy.stats import pearsonr\n",
    "from scipy.stats import ttest_ind\n",
    "from scipy.stats import wilcoxon\n",
    "from scipy.stats import mannwhitneyu\n",
    "from scipy.stats import levene\n",
    "from scipy.stats import shapiro\n",
    "\n",
    "\n",
    "import statsmodels as sm\n",
    "import statsmodels.api as smapi\n",
    "from statsmodels.stats.multitest import multipletests\n",
    "\n",
    "from sklearn.preprocessing import StandardScaler\n",
    "sc = StandardScaler()\n",
    "from sklearn.preprocessing import scale\n",
    "from sklearn.impute import KNNImputer\n",
    "\n",
    "#-----------------------------------------------------------------------------\n",
    "# ---- Linear regression - Using statsmodels\n",
    "# https://www.statsmodels.org/stable/regression.html\n",
    "# https://www.statsmodels.org/stable/examples/notebooks/generated/ols.html\n",
    "import statsmodels.api as smapi\n",
    "from statsmodels.stats.multitest import multipletests\n",
    "\n",
    "# generate random Gaussian values\n",
    "# https://numpy.org/doc/1.16/reference/routines.random.html\n",
    "from numpy.random import seed\n",
    "from numpy.random import randn\n",
    "from numpy.random import normal  #normal([loc, scale, size])\n",
    "from numpy.random import exponential   #exponential([scale, size])\n",
    "from numpy.random import lognormal   #lognormal([mean, sigma, size])\n",
    "\n",
    "#Probability distributions \n",
    "# https://docs.scipy.org/doc/scipy/reference/stats.html\n",
    "from scipy.stats import norm   # norm.pdf(x, loc=0, scale=1)\n",
    "from scipy.stats import lognorm   # lognorm.pdf(x, s, loc=0, scale=1)\n",
    "\n",
    "# Calling the finite sample size p-value functions\n",
    "import ssSIG as ssSIG\n",
    "\n",
    "## Setting for plots\n",
    "font = {'size'   : 14}\n",
    "plt.rc('font', **font)"
   ]
  },
  {
   "cell_type": "markdown",
   "id": "f6edcb69-acd4-4996-a5ed-c8bcc73c09e7",
   "metadata": {},
   "source": [
    "## One sample"
   ]
  },
  {
   "cell_type": "markdown",
   "id": "345d0b18-1136-4aac-b12f-a4f2d0ff81f6",
   "metadata": {},
   "source": [
    "The hypotheses are:\n",
    "* Null hypothesis - $H_0: \\mu=0$\n",
    "* Alternative hypothesis - $H_1: \\mu \\neq 0$"
   ]
  },
  {
   "cell_type": "markdown",
   "id": "f18b77c2-275a-4503-9b59-3c543820c4e8",
   "metadata": {},
   "source": [
    "### Synthetic data\n",
    "Let us generate some data obeying a normal distribution $N(\\mu_1,\\sigma_1^2)$:"
   ]
  },
  {
   "cell_type": "code",
   "execution_count": 4,
   "id": "efba99ad-35da-40e3-8631-9535a3130461",
   "metadata": {
    "tags": []
   },
   "outputs": [
    {
     "data": {
      "text/plain": [
       "<matplotlib.legend.Legend at 0x1d5479ae490>"
      ]
     },
     "execution_count": 4,
     "metadata": {},
     "output_type": "execute_result"
    },
    {
     "data": {
      "image/png": "[encoded data removed]",
      "text/plain": [
       "<Figure size 432x288 with 1 Axes>"
      ]
     },
     "metadata": {
      "needs_background": "light"
     },
     "output_type": "display_data"
    }
   ],
   "source": [
    "# Null hypothesis: H0: mu = 0\n",
    "null_mu = 0.\n",
    "\n",
    "# Data: N(muB,sigmaB^2)\n",
    "muB = 0.2\n",
    "sigmaB = 1\n",
    "\n",
    "# Plot of density histogram of data and probability density function of data\n",
    "nB=200\n",
    "\n",
    "# Random seed\n",
    "#np.random.seed(9) # Good difference n = 200\n",
    "np.random.seed(100) # Small difference n = 200 \n",
    "\n",
    "# Random variables\n",
    "xB = normal(muB,sigmaB,nB)\n",
    "\n",
    "# Density histogram for the random sample\n",
    "plt.figure()\n",
    "plt.hist(xB, bins=20, density=True, alpha = 0.5)\n",
    "plt.xlabel('x')\n",
    "plt.ylabel('Density')\n",
    "#plt.title('Correlation of all metabolites')\n",
    "x = np.linspace(-3.5,3.5,100)\n",
    "y1 = norm.pdf(x,loc = muB, scale = sigmaB)\n",
    "plt.plot(x,y1,'b')\n",
    "plt.axvline(x = null_mu, color = 'black', ls='--', lw=2, label = \"$H_0$\")\n",
    "plt.axvline(x = muB, color = 'blue', ls='--', lw=1, label = \"Pop. mean\")\n",
    "plt.legend()"
   ]
  },
  {
   "cell_type": "markdown",
   "id": "884580a0-0ed6-4ae3-931b-3e67d343f814",
   "metadata": {},
   "source": [
    "### t-test"
   ]
  },
  {
   "cell_type": "markdown",
   "id": "3f05aab7-65d3-45d2-ae15-f8ed7b2660f9",
   "metadata": {},
   "source": [
    "A t-test can be run using the function <a href=\"https://docs.scipy.org/doc/scipy/reference/generated/scipy.stats.ttest_1samp.html\"> `ttest_1samp` </a> from the scipy.stats package."
   ]
  },
  {
   "cell_type": "code",
   "execution_count": 5,
   "id": "94aaf325-a879-4025-9974-dcbfff397100",
   "metadata": {},
   "outputs": [
    {
     "name": "stdout",
     "output_type": "stream",
     "text": [
      "P-value = 0.11968740906234471\n"
     ]
    }
   ],
   "source": [
    "from scipy.stats import ttest_1samp\n",
    "alternative = 'two-sided' #Other possibilities:  ‘less’, ‘greater’\n",
    "s,p = ttest_1samp(xB,null_mu,alternative=alternative)\n",
    "print('P-value =',p)"
   ]
  },
  {
   "cell_type": "markdown",
   "id": "b85cb269-6c98-4675-9050-1ccccff8d2e5",
   "metadata": {},
   "source": [
    "### Subsampling t-test"
   ]
  },
  {
   "cell_type": "markdown",
   "id": "82431395-c1b8-40b7-b67d-8797af8e320c",
   "metadata": {},
   "source": [
    "The subsampling method using a t-test for random subsamples of the original dataset can be run using the `ttest_1samp_ssSIG` function from the ssSIG package which extends the function `ttest_1samp`. The function `ttest_1samp_ssSIG` uses the same input parameters as `ttest_1samp` plus the following:\n",
    "* `alpha`: Significance level $\\alpha$ (used to calculate the empirical power for subsamples).\n",
    "* `fmin`,`fmax`,`Df`: Parameters for the list of values for the subsampling fraction $f\\in$ [`fmin`,`fmax`]. `Df` is the step of the partition such that the list for $f$ is [fmin, fmin+Df, fmin+2*Df,...].\n",
    "* `Rsubsamples`: Number of random subsamples used for each value of $f$.\n",
    "* `th_beta`: Linear regression for $L_{\\beta}$ is restricted to values $f<$ `th_beta`."
   ]
  },
  {
   "cell_type": "code",
   "execution_count": 6,
   "id": "6e67f599-a517-4d5e-a2df-a09e42f4498d",
   "metadata": {
    "tags": []
   },
   "outputs": [
    {
     "name": "stdout",
     "output_type": "stream",
     "text": [
      "P-value for Lp = 6.758273075417e-58\n",
      "P-value for Lbeta = 1.1661199349600223e-07\n"
     ]
    }
   ],
   "source": [
    "alpha = 0.05\n",
    "Df = 0.01\n",
    "fmin = 0.01\n",
    "fmax = 1.0\n",
    "Rsubsamples = 100 # Number of sub-samples for a fraction f of the total sample\n",
    "th_beta = 0.5\n",
    "alternative = 'two-sided'\n",
    "\n",
    "pvalb,R2,slope_Lnpval,ciL_slope_Lnpval,ciU_slope_Lnpval,intercept_Lnpval,ciL_intercept_Lnpval,ciU_intercept_Lnpval,flist,mean_logpval,median_logpval,sd_logpval,logpv_qL,logpv_qU,power,pvalb_beta,R2_beta,slope_Lnpval_beta,ciL_slope_Lnpval_beta,ciU_slope_Lnpval_beta,intercept_Lnpval_beta,ciL_intercept_Lnpval_beta,ciU_intercept_Lnpval_beta = ssSIG.ttest_1samp_ssSIG(xB,null_mu,Rsubsamples,fmin,fmax,Df,alternative=alternative,alpha=alpha,th_beta=th_beta)\n",
    "\n",
    "print('P-value for Lp =', pvalb)\n",
    "print('P-value for Lbeta =', pvalb_beta)"
   ]
  },
  {
   "cell_type": "markdown",
   "id": "0f4f8f18-fb42-4229-8ade-67949079cd03",
   "metadata": {},
   "source": [
    "Plots of the results:"
   ]
  },
  {
   "cell_type": "code",
   "execution_count": 7,
   "id": "e995fa4b-b4b7-4056-8444-1b94a6acf5b7",
   "metadata": {},
   "outputs": [
    {
     "data": {
      "image/png": "[encoded data removed]",
      "text/plain": [
       "<Figure size 432x288 with 2 Axes>"
      ]
     },
     "metadata": {
      "needs_background": "light"
     },
     "output_type": "display_data"
    }
   ],
   "source": [
    "font = {'size'   : 14}\n",
    "plt.rc('font', **font)\n",
    "\n",
    "f, (a0, a1) = plt.subplots(2, 1, gridspec_kw={'height_ratios': [1, 1]})\n",
    "\n",
    "a0.plot(flist,mean_logpval,'o-',label='mean')\n",
    "a0.plot(flist,logpv_qL,'b-')\n",
    "a0.plot(flist,logpv_qU,'b-')\n",
    "a0.fill_between(flist,logpv_qL,logpv_qU, alpha = 0.2)\n",
    "a0.axhline(y = np.log(0.05), color = 'black', ls='--', lw=2)\n",
    "y_pred = [intercept_Lnpval+slope_Lnpval*x for x in flist]\n",
    "a0.plot (flist, y_pred, '-', color='black', linewidth=1.5, label='Fit')\n",
    "a0.set_xlabel('$f$',fontsize=18)\n",
    "a0.set_ylabel('$L_p$',fontsize=18)\n",
    "a0.get_xaxis().set_visible(False)\n",
    "\n",
    "a1.plot(flist,np.log(1-power),'o',label = 'FNR')\n",
    "y_pred = [intercept_Lnpval_beta+slope_Lnpval_beta*x for x in [min(flist),th_beta]]\n",
    "a1.plot([min(flist),th_beta], y_pred, '-', color='black', linewidth=1.5, label='Fit')\n",
    "a1.set_xlabel('$f$',fontsize=18)\n",
    "a1.set_ylabel(r'$L_{\\beta}$',fontsize=18)\n",
    "\n",
    "f.tight_layout()"
   ]
  },
  {
   "cell_type": "markdown",
   "id": "9e76573b-345f-432e-a854-e49ba8f2eee9",
   "metadata": {},
   "source": [
    "## Two samples"
   ]
  },
  {
   "cell_type": "markdown",
   "id": "78da2edb-a082-49ef-b356-82f6739d74ea",
   "metadata": {},
   "source": [
    "### Two normally distributed samples"
   ]
  },
  {
   "cell_type": "markdown",
   "id": "bd528d63-5cee-4ad3-8d8a-1ace4e536286",
   "metadata": {},
   "source": [
    "#### Synthetic data\n",
    "\n",
    "Two normally distributed samples to simulate a quantity $x$ observed in two groups:\n",
    "- Group A: $n_A$ observations, $x_A ~ N(\\mu_A,\\sigma_A^2)$\n",
    "- Group B: $n_B$ observations, $x_B ~ N(\\mu_B,\\sigma_B^2)$\n"
   ]
  },
  {
   "cell_type": "code",
   "execution_count": 10,
   "id": "abb10c77-b3ec-4fac-b5b2-e012a7781698",
   "metadata": {},
   "outputs": [
    {
     "data": {
      "image/png": "[encoded data removed]",
      "text/plain": [
       "<Figure size 432x288 with 2 Axes>"
      ]
     },
     "metadata": {
      "needs_background": "light"
     },
     "output_type": "display_data"
    }
   ],
   "source": [
    "np.random.seed(10)\n",
    "\n",
    "nA=100\n",
    "nB=100\n",
    "muA = 0.0\n",
    "muB = 0.2\n",
    "sigmaA = 1.0\n",
    "sigmaB = 1.0\n",
    "\n",
    "xA = normal(muA,sigmaA,nA)\n",
    "xB = normal(muB,sigmaB,nB)\n",
    "\n",
    "font = {'size'   : 14}\n",
    "plt.rc('font', **font)\n",
    "\n",
    "  \n",
    "f, (a0, a1) = plt.subplots(2, 1, gridspec_kw={'height_ratios': [4, 3]})\n",
    "\n",
    "a0.hist(xA, bins=20, density=True, alpha = 0.5,label = \"A\")\n",
    "a0.hist(xB, bins=10, density=True, alpha = 0.5, label = \"B\")\n",
    "x = np.linspace(-3,3,100)\n",
    "\n",
    "y0 = norm.pdf(x,loc = muA, scale = sigmaA)\n",
    "y1 = norm.pdf(x,loc = muB, scale = sigmaB)\n",
    "a0.plot(x,y0,'b')\n",
    "a0.plot(x,y1,'r')\n",
    "a0.set_xlim([-3,3])\n",
    "a0.set_ylabel('Density')\n",
    "a0.legend()\n",
    "a0.get_xaxis().set_visible(False)\n",
    "\n",
    "yrand0 = normal(0.5,0.05,len(xA))\n",
    "yrand1 = normal(0.,0.05,len(xB))\n",
    "    \n",
    "a1.plot(xA,yrand0,'o')\n",
    "a1.plot(xB,yrand1,'o')\n",
    "a1.set_xlim([-3,3]) # for np.random.seed(20)\n",
    "a1.set_ylim([-0.2,0.65])\n",
    "a1=plt.gca()\n",
    "a1.get_yaxis().set_visible(False)\n",
    "a1.spines['right'].set_visible(False)\n",
    "a1.spines['top'].set_visible(False)\n",
    "a1.spines['left'].set_visible(False)\n",
    "a1.spines['bottom'].set_visible(True)\n",
    "a1.set_xlabel('Sample values, x')\n",
    "\n",
    "f.tight_layout()"
   ]
  },
  {
   "cell_type": "markdown",
   "id": "635a15c0-04c5-4325-a1b3-e93ef7acf20f",
   "metadata": {},
   "source": [
    "#### *Independent* samples. t-test and subsampling t-test"
   ]
  },
  {
   "cell_type": "markdown",
   "id": "f72b75d4-88a4-46eb-9f9f-13e0214efc65",
   "metadata": {},
   "source": [
    "t-test assuming that the samples are independent using the function <a href=\"https://docs.scipy.org/doc/scipy/reference/generated/scipy.stats.ttest_ind.html\"> `ttest_ind` </a>"
   ]
  },
  {
   "cell_type": "code",
   "execution_count": 3,
   "id": "a8f349e1-c9d3-4f66-b39a-c5625c826308",
   "metadata": {},
   "outputs": [
    {
     "name": "stdout",
     "output_type": "stream",
     "text": [
      "P-value = 0.17294531622519738\n"
     ]
    }
   ],
   "source": [
    "from scipy.stats import ttest_ind\n",
    "alternative = 'two-sided' #Other possibilities:  ‘less’, ‘greater’\n",
    "s,p = ttest_ind(xA,xB,alternative=alternative)\n",
    "print('P-value =',p)"
   ]
  },
  {
   "cell_type": "markdown",
   "id": "f43eb902-bd26-41be-93c4-f9d848568c52",
   "metadata": {},
   "source": [
    "Subsampling t-test:"
   ]
  },
  {
   "cell_type": "code",
   "execution_count": 7,
   "id": "24f75402-84ab-443e-902b-c8be1700d70d",
   "metadata": {},
   "outputs": [
    {
     "name": "stdout",
     "output_type": "stream",
     "text": [
      "P-value = 0.17294531622519738\n",
      "P-value for Lp = 3.932867321614733e-78\n",
      "P-value for Lbeta = 3.282566604242024e-05\n"
     ]
    }
   ],
   "source": [
    "alpha = 0.05\n",
    "Df = 0.01\n",
    "fmin = 0.1\n",
    "fmax = 1.0\n",
    "Rsubsamples = 1000 # Number of sub-samples for a fraction f of the total sample\n",
    "th_beta = 0.5\n",
    "\n",
    "# t-test\n",
    "#nan_policy='propagate'\n",
    "alternative='two-sided'#'less' #'greater'#'two-sided'\n",
    "\n",
    "# Subsampling\n",
    "pvalb,R2,slope_Lnpval,ciL_slope_Lnpval,ciU_slope_Lnpval,intercept_Lnpval,ciL_intercept_Lnpval,ciU_intercept_Lnpval,flist,mean_logpval,median_logpval,sd_logpval,logpv_qL,logpv_qU,power,pvalb_beta,R2_beta,slope_Lnpval_beta,ciL_slope_Lnpval_beta,ciU_slope_Lnpval_beta,intercept_Lnpval_beta,ciL_intercept_Lnpval_beta,ciU_intercept_Lnpval_beta = ssSIG.ttest_ind_ssSIG(xA,xB,Rsubsamples,fmin,fmax,Df,alternative, alpha = alpha)\n",
    "\n",
    "print('P-value for Lp =', pvalb)\n",
    "print('P-value for Lbeta =', pvalb_beta)\n"
   ]
  },
  {
   "cell_type": "markdown",
   "id": "9362dff0-8be5-426a-9852-b48dcd3c9ed7",
   "metadata": {},
   "source": [
    "Plots of the subsampling results:"
   ]
  },
  {
   "cell_type": "code",
   "execution_count": 8,
   "id": "eb04771d-a1ce-4e7c-9f70-7a25e9928f5d",
   "metadata": {
    "tags": []
   },
   "outputs": [
    {
     "data": {
      "image/png": "[encoded data removed]",
      "text/plain": [
       "<Figure size 432x288 with 2 Axes>"
      ]
     },
     "metadata": {
      "needs_background": "light"
     },
     "output_type": "display_data"
    }
   ],
   "source": [
    "font = {'size'   : 14}\n",
    "plt.rc('font', **font)\n",
    "\n",
    "f, (a0, a1) = plt.subplots(2, 1, gridspec_kw={'height_ratios': [1, 1]})\n",
    "\n",
    "a0.plot(flist,mean_logpval,'o-',label='mean')\n",
    "a0.plot(flist,logpv_qL,'b-')\n",
    "a0.plot(flist,logpv_qU,'b-')\n",
    "a0.fill_between(flist,logpv_qL,logpv_qU, alpha = 0.2)\n",
    "a0.axhline(y = np.log(0.05), color = 'black', ls='--', lw=2)\n",
    "y_pred = [intercept_Lnpval+slope_Lnpval*x for x in flist]\n",
    "a0.plot (flist, y_pred, '-', color='black', linewidth=1.5, label='Fit')\n",
    "a0.set_xlabel('$f$',fontsize=18)\n",
    "a0.set_ylabel('$L_p$',fontsize=18)\n",
    "a0.get_xaxis().set_visible(False)\n",
    "\n",
    "\n",
    "a1.plot(flist,np.log(1-power),'o',label = 'FNR')\n",
    "y_pred = [intercept_Lnpval_beta+slope_Lnpval_beta*x for x in [min(flist),0.5]]\n",
    "a1.plot([min(flist),0.5], y_pred, '-', color='black', linewidth=1.5, label='Fit')\n",
    "a1.set_xlabel('$f$',fontsize=18)\n",
    "a1.set_ylabel(r'$L_{\\beta}$',fontsize=18)\n",
    "#a1.legend()\n",
    "\n",
    "f.tight_layout()"
   ]
  },
  {
   "cell_type": "markdown",
   "id": "e279dccf-1bf4-46b5-9e34-58b7d2bd2e99",
   "metadata": {},
   "source": [
    "#### *Related* samples - t-test and subsampling t-test"
   ]
  },
  {
   "cell_type": "markdown",
   "id": "118b63c5-44d5-49eb-b84e-aba9c363c087",
   "metadata": {},
   "source": [
    "t-test assuming that the samples are independent using the function <a href=\"https://docs.scipy.org/doc/scipy/reference/generated/scipy.stats.ttest_rel.html#scipy.stats.ttest_rel\"> `ttest_rel` </a>"
   ]
  },
  {
   "cell_type": "code",
   "execution_count": 4,
   "id": "b07db80d-77c5-41b0-bcf6-dd8873c6adab",
   "metadata": {},
   "outputs": [
    {
     "name": "stdout",
     "output_type": "stream",
     "text": [
      "P-value = 0.1603446482621382\n"
     ]
    }
   ],
   "source": [
    "from scipy.stats import ttest_rel\n",
    "alternative = 'two-sided' #Other possibilities:  ‘less’, ‘greater’\n",
    "s,p = ttest_rel(xA,xB,alternative=alternative)\n",
    "print('P-value =',p)"
   ]
  },
  {
   "cell_type": "code",
   "execution_count": 5,
   "id": "b64a16ce-796a-4005-8183-11ac274e2562",
   "metadata": {},
   "outputs": [
    {
     "name": "stdout",
     "output_type": "stream",
     "text": [
      "P-value for Lp = 1.5193452951687e-78\n",
      "P-value for Lbeta = 2.7746591714797503e-09\n"
     ]
    }
   ],
   "source": [
    "alpha = 0.05\n",
    "Df = 0.01\n",
    "fmin = 0.1\n",
    "fmax = 1.0\n",
    "Rsubsamples = 1000 # Number of sub-samples for a fraction f of the total sample\n",
    "th_beta = 0.5\n",
    "\n",
    "# t-test\n",
    "#nan_policy='propagate'\n",
    "alternative='two-sided'#'less' #'greater'#'two-sided'\n",
    "\n",
    "# Subsampling\n",
    "pvalb,R2,slope_Lnpval,ciL_slope_Lnpval,ciU_slope_Lnpval,intercept_Lnpval,ciL_intercept_Lnpval,ciU_intercept_Lnpval,flist,mean_logpval,median_logpval,sd_logpval,logpv_qL,logpv_qU,power,pvalb_beta,R2_beta,slope_Lnpval_beta,ciL_slope_Lnpval_beta,ciU_slope_Lnpval_beta,intercept_Lnpval_beta,ciL_intercept_Lnpval_beta,ciU_intercept_Lnpval_beta = ssSIG.ttest_rel_ssSIG(xA,xB,Rsubsamples,fmin,fmax,Df,alternative, alpha = alpha,th_beta=th_beta)\n",
    "\n",
    "print('P-value for Lp =', pvalb)\n",
    "print('P-value for Lbeta =', pvalb_beta)\n"
   ]
  },
  {
   "cell_type": "markdown",
   "id": "3ddc8d97-d81e-41dd-a2f7-47fcb7e86e24",
   "metadata": {},
   "source": [
    "Plots of the subsampling results:"
   ]
  },
  {
   "cell_type": "code",
   "execution_count": 6,
   "id": "6d1ce8c6-39b5-4415-b5c2-c4533c2d0a9e",
   "metadata": {
    "tags": []
   },
   "outputs": [
    {
     "data": {
      "image/png": "[encoded data removed]",
      "text/plain": [
       "<Figure size 432x288 with 2 Axes>"
      ]
     },
     "metadata": {
      "needs_background": "light"
     },
     "output_type": "display_data"
    }
   ],
   "source": [
    "font = {'size'   : 14}\n",
    "plt.rc('font', **font)\n",
    "\n",
    "f, (a0, a1) = plt.subplots(2, 1, gridspec_kw={'height_ratios': [1, 1]})\n",
    "\n",
    "a0.plot(flist,mean_logpval,'o-',label='mean')\n",
    "a0.plot(flist,logpv_qL,'b-')\n",
    "a0.plot(flist,logpv_qU,'b-')\n",
    "a0.fill_between(flist,logpv_qL,logpv_qU, alpha = 0.2)\n",
    "a0.axhline(y = np.log(0.05), color = 'black', ls='--', lw=2)\n",
    "y_pred = [intercept_Lnpval+slope_Lnpval*x for x in flist]\n",
    "a0.plot (flist, y_pred, '-', color='black', linewidth=1.5, label='Fit')\n",
    "\n",
    "a0.set_xlabel('$f$',fontsize=18)\n",
    "a0.set_ylabel('$L_p$',fontsize=18)\n",
    "a0.get_xaxis().set_visible(False)\n",
    "\n",
    "a1.plot(flist,np.log(1-power),'o',label = 'FNR')\n",
    "y_pred = [intercept_Lnpval_beta+slope_Lnpval_beta*x for x in [min(flist),0.5]]\n",
    "a1.plot([min(flist),0.5], y_pred, '-', color='black', linewidth=1.5, label='Fit')\n",
    "a1.set_xlabel('$f$',fontsize=18)\n",
    "a1.set_ylabel(r'$L_{\\beta}$',fontsize=18)\n",
    "\n",
    "f.tight_layout()"
   ]
  },
  {
   "cell_type": "markdown",
   "id": "9f3f85c2-c4bd-45e3-a1cd-600f307a6ab8",
   "metadata": {},
   "source": [
    "#### *Related* samples - Wilcoxon and subsampling Wilcoxon"
   ]
  },
  {
   "cell_type": "markdown",
   "id": "a3c19def-a8df-4003-8388-78c5496eeb6e",
   "metadata": {},
   "source": [
    "t-test assuming that the samples are independent using the function <a href=\"https://docs.scipy.org/doc/scipy/reference/generated/scipy.stats.wilcoxon.html#scipy.stats.wilcoxon\"> `wilcoxon` </a>"
   ]
  },
  {
   "cell_type": "code",
   "execution_count": 4,
   "id": "114080a1-a776-4a1f-9460-780eec3cce4e",
   "metadata": {},
   "outputs": [
    {
     "name": "stdout",
     "output_type": "stream",
     "text": [
      "P-value = 0.12431015694745697\n"
     ]
    }
   ],
   "source": [
    "from scipy.stats import ttest_rel\n",
    "alternative = 'two-sided' #Other possibilities:  ‘less’, ‘greater’\n",
    "s,p = wilcoxon(xA,xB,alternative=alternative)\n",
    "print('P-value =',p)"
   ]
  },
  {
   "cell_type": "code",
   "execution_count": 5,
   "id": "a875beef-ec8a-4cdc-8938-414a405960b4",
   "metadata": {},
   "outputs": [
    {
     "name": "stdout",
     "output_type": "stream",
     "text": [
      "P-value for Lp = 3.376876824379069e-66\n",
      "P-value for Lbeta = 7.349061317313626e-11\n"
     ]
    }
   ],
   "source": [
    "alpha = 0.05\n",
    "Df = 0.01\n",
    "fmin = 0.1\n",
    "fmax = 1.0\n",
    "Rsubsamples = 1000 # Number of sub-samples for a fraction f of the total sample\n",
    "th_beta = 0.5\n",
    "\n",
    "# t-test\n",
    "#nan_policy='propagate'\n",
    "alternative='two-sided'#'less' #'greater'#'two-sided'\n",
    "\n",
    "# Subsampling\n",
    "pvalb,R2,slope_Lnpval,ciL_slope_Lnpval,ciU_slope_Lnpval,intercept_Lnpval,ciL_intercept_Lnpval,ciU_intercept_Lnpval,flist,mean_logpval,median_logpval,sd_logpval,logpv_qL,logpv_qU,power,pvalb_beta,R2_beta,slope_Lnpval_beta,ciL_slope_Lnpval_beta,ciU_slope_Lnpval_beta,intercept_Lnpval_beta,ciL_intercept_Lnpval_beta,ciU_intercept_Lnpval_beta = ssSIG.wilcoxon_ssSIG(xA,xB,Rsubsamples,fmin,fmax,Df, alternative,  alpha = alpha,th_beta=th_beta)\n",
    "\n",
    "print('P-value for Lp =', pvalb)\n",
    "print('P-value for Lbeta =', pvalb_beta)\n"
   ]
  },
  {
   "cell_type": "markdown",
   "id": "181a7aa2-35aa-4b9d-b6fd-50380d1b0caa",
   "metadata": {},
   "source": [
    "Plots of the subsampling results:"
   ]
  },
  {
   "cell_type": "code",
   "execution_count": 7,
   "id": "3a6f9297-39a8-45d8-b6e5-ba5869c85077",
   "metadata": {
    "tags": []
   },
   "outputs": [
    {
     "data": {
      "image/png": "[encoded data removed]",
      "text/plain": [
       "<Figure size 432x288 with 2 Axes>"
      ]
     },
     "metadata": {
      "needs_background": "light"
     },
     "output_type": "display_data"
    }
   ],
   "source": [
    "font = {'size'   : 14}\n",
    "plt.rc('font', **font)\n",
    "\n",
    "f, (a0, a1) = plt.subplots(2, 1, gridspec_kw={'height_ratios': [1, 1]})\n",
    "\n",
    "a0.plot(flist,mean_logpval,'o-',label='mean')\n",
    "a0.plot(flist,logpv_qL,'b-')\n",
    "a0.plot(flist,logpv_qU,'b-')\n",
    "a0.fill_between(flist,logpv_qL,logpv_qU, alpha = 0.2)\n",
    "a0.axhline(y = np.log(0.05), color = 'black', ls='--', lw=2)\n",
    "y_pred = [intercept_Lnpval+slope_Lnpval*x for x in flist]\n",
    "a0.plot (flist, y_pred, '-', color='black', linewidth=1.5, label='Fit')\n",
    "\n",
    "a0.set_xlabel('$f$',fontsize=18)\n",
    "a0.set_ylabel('$L_p$',fontsize=18)\n",
    "a0.get_xaxis().set_visible(False)\n",
    "\n",
    "a1.plot(flist,np.log(1-power),'o',label = 'FNR')\n",
    "y_pred = [intercept_Lnpval_beta+slope_Lnpval_beta*x for x in [min(flist),0.5]]\n",
    "a1.plot([min(flist),0.5], y_pred, '-', color='black', linewidth=1.5, label='Fit')\n",
    "a1.set_xlabel('$f$',fontsize=18)\n",
    "a1.set_ylabel(r'$L_{\\beta}$',fontsize=18)\n",
    "\n",
    "f.tight_layout()"
   ]
  },
  {
   "cell_type": "code",
   "execution_count": null,
   "id": "47cbfa58-8414-4ad6-90bd-17b9190cc084",
   "metadata": {},
   "outputs": [],
   "source": []
  },
  {
   "cell_type": "markdown",
   "id": "0590c623-fee4-4c9c-81d3-fdcc3a1f63fd",
   "metadata": {},
   "source": [
    "### Two log-normal samples"
   ]
  },
  {
   "cell_type": "markdown",
   "id": "a9067fb9-477a-475b-a66f-1f0ac8fd65b8",
   "metadata": {},
   "source": [
    "#### Synthetic data"
   ]
  },
  {
   "cell_type": "code",
   "execution_count": 9,
   "id": "78fdd749-566b-4552-8c81-337c74c8651e",
   "metadata": {},
   "outputs": [
    {
     "data": {
      "image/png": "[encoded data removed]",
      "text/plain": [
       "<Figure size 432x288 with 2 Axes>"
      ]
     },
     "metadata": {
      "needs_background": "light"
     },
     "output_type": "display_data"
    }
   ],
   "source": [
    "#np.random.seed(10)\n",
    "np.random.seed(20)\n",
    "\n",
    "nA=100\n",
    "nB=100\n",
    "muA = 0.0\n",
    "muB = 0.0\n",
    "sigmaA = 0.6\n",
    "sigmaB = 0.25\n",
    "\n",
    "xA = lognormal(muA,sigmaA,nA)\n",
    "xB = lognormal(muB,sigmaB,nB)\n",
    "\n",
    "font = {'size'   : 14}\n",
    "plt.rc('font', **font)\n",
    "\n",
    "f, (a0, a1) = plt.subplots(2, 1, gridspec_kw={'height_ratios': [4, 3]})\n",
    "\n",
    "a0.hist(xA, bins=20, density=True, alpha = 0.5,label = \"A\")\n",
    "a0.hist(xB, bins=10, density=True, alpha = 0.5, label = \"B\")\n",
    "x = np.linspace(0.001,5,100)\n",
    "\n",
    "y0 = lognorm.pdf(x,sigmaA,loc = muA)\n",
    "y1 = lognorm.pdf(x,sigmaB,loc = muB)\n",
    "a0.plot(x,y0,'b')\n",
    "a0.plot(x,y1,'r')\n",
    "a0.set_xlim([0,4]) # for np.random.seed(20)\n",
    "a0.set_ylabel('Density')\n",
    "a0.legend()\n",
    "a0.get_xaxis().set_visible(False)\n",
    "\n",
    "yrand0 = np.zeros(len(xA))\n",
    "yrand1 = np.zeros(len(xB))\n",
    "for i in range(len(yrand0)):\n",
    "    yrand0[i] = normal(0.5,0.05)\n",
    "    yrand1[i] = normal(0.,0.05)\n",
    "    \n",
    "a1.plot(xA,yrand0,'o')\n",
    "a1.plot(xB,yrand1,'o')\n",
    "a1.set_xlim([0,4]) # for np.random.seed(20)\n",
    "a1.set_ylim([-0.2,0.65])\n",
    "a1=plt.gca()\n",
    "a1.get_yaxis().set_visible(False)\n",
    "a1.spines['right'].set_visible(False)\n",
    "a1.spines['top'].set_visible(False)\n",
    "a1.spines['left'].set_visible(False)\n",
    "a1.spines['bottom'].set_visible(True)\n",
    "a1.set_xlabel('Sample values, x')\n",
    "\n",
    "f.tight_layout()"
   ]
  },
  {
   "cell_type": "markdown",
   "id": "db032362-5e97-4745-b415-f822b7290399",
   "metadata": {},
   "source": [
    "#### ***t-test***"
   ]
  },
  {
   "cell_type": "code",
   "execution_count": 10,
   "id": "12046f3d-0e19-4576-b90a-6cc09950f422",
   "metadata": {},
   "outputs": [
    {
     "name": "stdout",
     "output_type": "stream",
     "text": [
      "P-value for Lp = 1.0\n",
      "P-value for Lbeta = 0.9999999999999115\n"
     ]
    }
   ],
   "source": [
    "alpha = 0.05\n",
    "Df = 0.01\n",
    "fmin = 0.1\n",
    "fmax = 1.0\n",
    "Rsubsamples = 1000 # Number of sub-samples for a fraction f of the total sample\n",
    "th_beta = 0.5\n",
    "\n",
    "#nan_policy='propagate'\n",
    "alternative='less'#'less' #'greater'#'two-sided'\n",
    "pvalb,R2,slope_Lnpval,ciL_slope_Lnpval,ciU_slope_Lnpval,intercept_Lnpval,ciL_intercept_Lnpval,ciU_intercept_Lnpval,flist,mean_logpval,median_logpval,sd_logpval,logpv_qL,logpv_qU,power,pvalb_beta,R2_beta,slope_Lnpval_beta,ciL_slope_Lnpval_beta,ciU_slope_Lnpval_beta,intercept_Lnpval_beta,ciL_intercept_Lnpval_beta,ciU_intercept_Lnpval_beta = ssSIG.ttest_ind_ssSIG(xA,xB,Rsubsamples,fmin,fmax,Df,alternative, alpha = alpha)\n",
    "\n",
    "print('P-value for Lp =', pvalb)\n",
    "print('P-value for Lbeta =', pvalb_beta)\n"
   ]
  },
  {
   "cell_type": "code",
   "execution_count": 11,
   "id": "f9c093a0-9dc9-4ef1-ab6d-e37bd76a7735",
   "metadata": {
    "tags": []
   },
   "outputs": [
    {
     "data": {
      "image/png": "[encoded data removed]",
      "text/plain": [
       "<Figure size 432x288 with 2 Axes>"
      ]
     },
     "metadata": {
      "needs_background": "light"
     },
     "output_type": "display_data"
    }
   ],
   "source": [
    "font = {'size'   : 14}\n",
    "plt.rc('font', **font)\n",
    "\n",
    "f, (a0, a1) = plt.subplots(2, 1, gridspec_kw={'height_ratios': [1, 1]})\n",
    "\n",
    "a0.plot(flist,mean_logpval,'o-',label='mean')\n",
    "a0.plot(flist,logpv_qL,'b-')\n",
    "a0.plot(flist,logpv_qU,'b-')\n",
    "a0.fill_between(flist,logpv_qL,logpv_qU, alpha = 0.2)\n",
    "a0.axhline(y = np.log(0.05), color = 'black', ls='--', lw=2)\n",
    "y_pred = [intercept_Lnpval+slope_Lnpval*x for x in flist]\n",
    "a0.plot (flist, y_pred, '-', color='black', linewidth=1.5, label='Fit')\n",
    "\n",
    "    #plt.plot(nAset,np.log(np.zeros(len(nAset))+0.05))\n",
    "a0.set_xlabel('$f$',fontsize=18)\n",
    "a0.set_ylabel('$L_p$',fontsize=18)\n",
    "a0.get_xaxis().set_visible(False)\n",
    "#a0.legend()\n",
    "\n",
    "a1.plot(flist,np.log(1-power),'o',label = 'FNR')\n",
    "y_pred = [intercept_Lnpval_beta+slope_Lnpval_beta*x for x in [min(flist),0.5]]\n",
    "a1.plot([min(flist),0.5], y_pred, '-', color='black', linewidth=1.5, label='Fit')\n",
    "a1.set_xlabel('$f$',fontsize=18)\n",
    "a1.set_ylabel(r'$L_{\\beta}$',fontsize=18)\n",
    "#a1.legend()\n",
    "\n",
    "f.tight_layout()"
   ]
  },
  {
   "cell_type": "markdown",
   "id": "0f7bba99-f7e8-412b-8c75-edafea08bc8e",
   "metadata": {},
   "source": [
    "### Mann-Whitney test"
   ]
  },
  {
   "cell_type": "code",
   "execution_count": 15,
   "id": "8fdf87db-9893-4fa2-a6ba-a647e2c58177",
   "metadata": {},
   "outputs": [
    {
     "name": "stdout",
     "output_type": "stream",
     "text": [
      "P-value for Lp = 1.0\n",
      "P-value for Lbeta = 0.999999999999549\n"
     ]
    }
   ],
   "source": [
    "alpha = 0.05\n",
    "Df = 0.01\n",
    "fmin = 0.1\n",
    "fmax = 1.0\n",
    "Rsubsamples = 1000 # Number of sub-samples for a fraction f of the total sample\n",
    "th_beta = 0.5\n",
    "\n",
    "# Mann-whitney\n",
    "alternative='less'#'greater'#'less'#'two-sided'\n",
    "pvalb,R2,slope_Lnpval,ciL_slope_Lnpval,ciU_slope_Lnpval,intercept_Lnpval,ciL_intercept_Lnpval,ciU_intercept_Lnpval,flist,mean_logpval,median_logpval,sd_logpval,logpv_qL,logpv_qU,power,pvalb_beta,R2_beta,slope_Lnpval_beta,ciL_slope_Lnpval_beta,ciU_slope_Lnpval_beta,intercept_Lnpval_beta,ciL_intercept_Lnpval_beta,ciU_intercept_Lnpval_beta = ssSIG.mannwhitneyu_ssSIG(xA,xB,Rsubsamples,fmin,fmax,Df,alternative,alpha = alpha,th_beta=th_beta)\n",
    "#pvalb,R2,slope_Lnpval,ciL_slope_Lnpval,ciU_slope_Lnpval,intercept_Lnpval,ciL_intercept_Lnpval,ciU_intercept_Lnpval,flist,mean_log10pval,median_log10pval,log10pv_qL,log10pv_qU = ssSIG.mannwhitneyu_ssSIG(xA,xB,nrealisations,fmin,fmax,Df,alternative)\n",
    "\n",
    "print('P-value for Lp =', pvalb)\n",
    "print('P-value for Lbeta =', pvalb_beta)"
   ]
  },
  {
   "cell_type": "code",
   "execution_count": 16,
   "id": "91e3f402-dfd0-4d2e-b722-d3414611e33c",
   "metadata": {
    "tags": []
   },
   "outputs": [
    {
     "data": {
      "image/png": "[encoded data removed]",
      "text/plain": [
       "<Figure size 432x288 with 2 Axes>"
      ]
     },
     "metadata": {
      "needs_background": "light"
     },
     "output_type": "display_data"
    }
   ],
   "source": [
    "font = {'size'   : 14}\n",
    "plt.rc('font', **font)\n",
    "\n",
    "f, (a0, a1) = plt.subplots(2, 1, gridspec_kw={'height_ratios': [1, 1]})\n",
    "\n",
    "a0.plot(flist,mean_logpval,'o-',label='mean')\n",
    "a0.plot(flist,logpv_qL,'b-')\n",
    "a0.plot(flist,logpv_qU,'b-')\n",
    "a0.fill_between(flist,logpv_qL,logpv_qU, alpha = 0.2)\n",
    "a0.axhline(y = np.log(0.05), color = 'black', ls='--', lw=2)\n",
    "y_pred = [intercept_Lnpval+slope_Lnpval*x for x in flist]\n",
    "a0.plot (flist, y_pred, '-', color='black', linewidth=1.5, label='Fit')\n",
    "\n",
    "    #plt.plot(nAset,np.log(np.zeros(len(nAset))+0.05))\n",
    "a0.set_xlabel('$f$',fontsize=18)\n",
    "a0.set_ylabel('$L_p$',fontsize=18)\n",
    "a0.get_xaxis().set_visible(False)\n",
    "#a0.legend()\n",
    "\n",
    "a1.plot(flist,np.log(1-power),'o',label = 'FNR')\n",
    "y_pred = [intercept_Lnpval_beta+slope_Lnpval_beta*x for x in [min(flist),0.5]]\n",
    "a1.plot([min(flist),0.5], y_pred, '-', color='black', linewidth=1.5, label='Fit')\n",
    "a1.set_xlabel('$f$',fontsize=18)\n",
    "a1.set_ylabel(r'$L_{\\beta}$',fontsize=18)\n",
    "#a1.legend()\n",
    "\n",
    "f.tight_layout()"
   ]
  },
  {
   "cell_type": "markdown",
   "id": "63b2f23e-8265-4bdc-91f5-b4bb330b0c0d",
   "metadata": {},
   "source": [
    "### Logistic regression"
   ]
  },
  {
   "cell_type": "code",
   "execution_count": 17,
   "id": "c2ddf2cd-6b2e-4ef5-ab4d-67002b1b9075",
   "metadata": {
    "tags": []
   },
   "outputs": [
    {
     "name": "stdout",
     "output_type": "stream",
     "text": [
      "P-value for Lp = 2.785294536599429e-92\n",
      "P-value for Lbeta = 4.7125928383345e-16\n"
     ]
    }
   ],
   "source": [
    "alpha = 0.05\n",
    "Df = 0.01\n",
    "fmin = 0.1\n",
    "fmax = 1.0\n",
    "Rsubsamples = 1000 # Number of sub-samples for a fraction f of the total sample\n",
    "th_beta = 0.5\n",
    "\n",
    "# logistic regression\n",
    "pvalb,R2,slope_Lnpval,ciL_slope_Lnpval,ciU_slope_Lnpval,intercept_Lnpval,ciL_intercept_Lnpval,ciU_intercept_Lnpval,flist,mean_logpval,median_logpval,sd_logpval,logpv_qL,logpv_qU,power,pvalb_beta,R2_beta,slope_Lnpval_beta,ciL_slope_Lnpval_beta,ciU_slope_Lnpval_beta,intercept_Lnpval_beta,ciL_intercept_Lnpval_beta,ciU_intercept_Lnpval_beta = ssSIG.logreg_ssSIG(xA,xB,Rsubsamples,fmin,fmax,Df,alpha=alpha,th_beta=th_beta)\n",
    "\n",
    "print('P-value for Lp =', pvalb)\n",
    "print('P-value for Lbeta =', pvalb_beta)"
   ]
  },
  {
   "cell_type": "code",
   "execution_count": 18,
   "id": "aa4afcc6-4a34-4ad3-8ab8-d2f2d4508a72",
   "metadata": {
    "tags": []
   },
   "outputs": [
    {
     "data": {
      "image/png": "[encoded data removed]",
      "text/plain": [
       "<Figure size 432x288 with 2 Axes>"
      ]
     },
     "metadata": {
      "needs_background": "light"
     },
     "output_type": "display_data"
    }
   ],
   "source": [
    "font = {'size'   : 14}\n",
    "plt.rc('font', **font)\n",
    "\n",
    "f, (a0, a1) = plt.subplots(2, 1, gridspec_kw={'height_ratios': [1, 1]})\n",
    "\n",
    "a0.plot(flist,mean_logpval,'o-',label='mean')\n",
    "a0.plot(flist,logpv_qL,'b-')\n",
    "a0.plot(flist,logpv_qU,'b-')\n",
    "a0.fill_between(flist,logpv_qL,logpv_qU, alpha = 0.2)\n",
    "a0.axhline(y = np.log(0.05), color = 'black', ls='--', lw=2)\n",
    "y_pred = [intercept_Lnpval+slope_Lnpval*x for x in flist]\n",
    "a0.plot (flist, y_pred, '-', color='black', linewidth=1.5, label='Fit')\n",
    "\n",
    "    #plt.plot(nAset,np.log(np.zeros(len(nAset))+0.05))\n",
    "a0.set_xlabel('$f$',fontsize=18)\n",
    "a0.set_ylabel('$L_p$',fontsize=18)\n",
    "a0.get_xaxis().set_visible(False)\n",
    "#a0.legend()\n",
    "\n",
    "a1.plot(flist,np.log(1-power),'o',label = 'FNR')\n",
    "y_pred = [intercept_Lnpval_beta+slope_Lnpval_beta*x for x in [min(flist),0.5]]\n",
    "a1.plot([min(flist),0.5], y_pred, '-', color='black', linewidth=1.5, label='Fit')\n",
    "a1.set_xlabel('$f$',fontsize=18)\n",
    "a1.set_ylabel(r'$L_{\\beta}$',fontsize=18)\n",
    "#a1.set_ylim([-2,0.2])\n",
    "#a1.legend()\n",
    "\n",
    "f.tight_layout()"
   ]
  },
  {
   "cell_type": "markdown",
   "id": "d4b7cfea-66d3-4880-b404-5d7aaf6fcf1a",
   "metadata": {},
   "source": [
    "### Kolmogorov-Smirnov test"
   ]
  },
  {
   "cell_type": "code",
   "execution_count": 19,
   "id": "cff76f02-9e55-4ed5-b4bb-f57fffe46f9e",
   "metadata": {},
   "outputs": [
    {
     "name": "stdout",
     "output_type": "stream",
     "text": [
      "P-value for Lp = 8.57899854651934e-114\n",
      "P-value for Lbeta = 5.804857172801608e-17\n"
     ]
    }
   ],
   "source": [
    "alpha = 0.05\n",
    "Df = 0.01\n",
    "fmin = 0.1\n",
    "fmax = 1.0\n",
    "Rsubsamples = 1000 # Number of sub-samples for a fraction f of the total sample\n",
    "th_beta = 0.5\n",
    "\n",
    "# ks_2samp\n",
    "alternative='less'#'greater'#'less'#'two-sided'\n",
    "pvalb,R2,slope_Lnpval,ciL_slope_Lnpval,ciU_slope_Lnpval,intercept_Lnpval,ciL_intercept_Lnpval,ciU_intercept_Lnpval,flist,mean_logpval,median_logpval,sd_logpval,logpv_qL,logpv_qU,power,pvalb_beta,R2_beta,slope_Lnpval_beta,ciL_slope_Lnpval_beta,ciU_slope_Lnpval_beta,intercept_Lnpval_beta,ciL_intercept_Lnpval_beta,ciU_intercept_Lnpval_beta = ssSIG.ks_2samp_ssSIG(xA,xB,Rsubsamples,fmin,fmax,Df,alternative,alpha=alpha,th_beta=th_beta)\n",
    "\n",
    "print('P-value for Lp =', pvalb)\n",
    "print('P-value for Lbeta =', pvalb_beta)"
   ]
  },
  {
   "cell_type": "code",
   "execution_count": 20,
   "id": "195e99ec-02a3-4147-a405-2156a59b12eb",
   "metadata": {
    "tags": []
   },
   "outputs": [
    {
     "name": "stderr",
     "output_type": "stream",
     "text": [
      "/tmp/ipykernel_169100/3378385809.py:20: RuntimeWarning: divide by zero encountered in log\n",
      "  a1.plot(flist,np.log(1-power),'o',label = 'FNR')\n"
     ]
    },
    {
     "data": {
      "image/png": "[encoded data removed]",
      "text/plain": [
       "<Figure size 432x288 with 2 Axes>"
      ]
     },
     "metadata": {
      "needs_background": "light"
     },
     "output_type": "display_data"
    }
   ],
   "source": [
    "font = {'size'   : 14}\n",
    "plt.rc('font', **font)\n",
    "\n",
    "f, (a0, a1) = plt.subplots(2, 1, gridspec_kw={'height_ratios': [1, 1]})\n",
    "\n",
    "a0.plot(flist,mean_logpval,'o-',label='mean')\n",
    "a0.plot(flist,logpv_qL,'b-')\n",
    "a0.plot(flist,logpv_qU,'b-')\n",
    "a0.fill_between(flist,logpv_qL,logpv_qU, alpha = 0.2)\n",
    "a0.axhline(y = np.log(0.05), color = 'black', ls='--', lw=2)\n",
    "y_pred = [intercept_Lnpval+slope_Lnpval*x for x in flist]\n",
    "a0.plot (flist, y_pred, '-', color='black', linewidth=1.5, label='Fit')\n",
    "\n",
    "    #plt.plot(nAset,np.log(np.zeros(len(nAset))+0.05))\n",
    "a0.set_xlabel('$f$',fontsize=18)\n",
    "a0.set_ylabel('$L_p$',fontsize=18)\n",
    "a0.get_xaxis().set_visible(False)\n",
    "#a0.legend()\n",
    "\n",
    "a1.plot(flist,np.log(1-power),'o',label = 'FNR')\n",
    "y_pred = [intercept_Lnpval_beta+slope_Lnpval_beta*x for x in [min(flist),0.5]]\n",
    "a1.plot([min(flist),0.5], y_pred, '-', color='black', linewidth=1.5, label='Fit')\n",
    "a1.set_xlabel('$f$',fontsize=18)\n",
    "a1.set_ylabel(r'$L_{\\beta}$',fontsize=18)\n",
    "a1.set_ylim([-2.5,0.2])\n",
    "#a1.legend()\n",
    "\n",
    "f.tight_layout()"
   ]
  },
  {
   "cell_type": "markdown",
   "id": "16ce31c6-3e9c-4974-afeb-f9958e4def0b",
   "metadata": {},
   "source": [
    "## $k$ samples\n",
    "\n",
    "The one-way ANOVA and Kruskal-Wallis tests for $k$ independent samples have been implemented within the subsampling paradigm. With the current implementation, it is possible to do tests for **up to $k = 10$ samples**. Here we illustrate these methods for $k = 3$ samples."
   ]
  },
  {
   "cell_type": "markdown",
   "id": "fce2e35e-dba8-4805-8e2a-2b73e9caa9f7",
   "metadata": {},
   "source": [
    "### Synthetic data\n",
    "\n",
    "Three normally distributed samples to simulate a quantity $x$ observed in three groups:\n",
    "- Group A: $n_A$ observations, $x_A ~ N(\\mu_A,\\sigma_A^2)$\n",
    "- Group B: $n_B$ observations, $x_B ~ N(\\mu_B,\\sigma_B^2)$\n",
    "- Group C: $n_C$ observations, $x_C ~ N(\\mu_C,\\sigma_C^2)$\n"
   ]
  },
  {
   "cell_type": "code",
   "execution_count": 9,
   "id": "3dc4470d-622a-43cc-9d04-765539509e00",
   "metadata": {},
   "outputs": [
    {
     "data": {
      "image/png": "[encoded data removed]",
      "text/plain": [
       "<Figure size 432x288 with 2 Axes>"
      ]
     },
     "metadata": {
      "needs_background": "light"
     },
     "output_type": "display_data"
    }
   ],
   "source": [
    "#np.random.seed(10)\n",
    "np.random.seed(10)\n",
    "\n",
    "nA=100\n",
    "nB=100\n",
    "nC=50\n",
    "muA = 0.0\n",
    "muB = 0.1\n",
    "muC = 0.2\n",
    "sigmaA = 1.0\n",
    "sigmaB = 1.0\n",
    "sigmaC = 1.0\n",
    "\n",
    "xA = normal(muA,sigmaA,nA)\n",
    "xB = normal(muB,sigmaB,nB)\n",
    "xC = normal(muC,sigmaC,nC)\n",
    "\n",
    "font = {'size'   : 14}\n",
    "plt.rc('font', **font)\n",
    "\n",
    "  \n",
    "f, (a0, a1) = plt.subplots(2, 1, gridspec_kw={'height_ratios': [4, 3]})\n",
    "\n",
    "a0.hist(xA, bins=20, density=True, alpha = 0.5,label = \"A\")\n",
    "a0.hist(xB, bins=10, density=True, alpha = 0.5, label = \"B\")\n",
    "a0.hist(xC, bins=10, density=True, alpha = 0.5, label = \"B\")\n",
    "#plt.title('Correlation of all metabolites')\n",
    "x = np.linspace(-3,3,100)\n",
    "\n",
    "y0 = norm.pdf(x,loc = muA, scale = sigmaA)\n",
    "y1 = norm.pdf(x,loc = muB, scale = sigmaB)\n",
    "y2 = norm.pdf(x,loc = muC, scale = sigmaC)\n",
    "a0.plot(x,y0,'b')\n",
    "a0.plot(x,y1,'r')\n",
    "a0.plot(x,y2,'g')\n",
    "#a0.set_xlim([0,5]) # for np.random.seed(10)\n",
    "a0.set_xlim([-3,3]) # for np.random.seed(20)\n",
    "#a0.set_xlabel('x')\n",
    "a0.set_ylabel('Density')\n",
    "a0.legend()\n",
    "#a0=plt.gca()\n",
    "#a1.set_aspect(1)\n",
    "a0.get_xaxis().set_visible(False)\n",
    "#a0.get_xaxis().set_visible(False)\n",
    "\n",
    "yrand0 = normal(0.5,0.05,len(xA))\n",
    "yrand1 = normal(0.,0.05,len(xB))\n",
    "yrand2 = normal(-0.5,0.05,len(xC))\n",
    "    \n",
    "a1.plot(xA,yrand0,'o')\n",
    "a1.plot(xB,yrand1,'o')\n",
    "a1.plot(xC,yrand2,'o')\n",
    "#a1.set_xlim([0,5])\n",
    "#a1.set_xlim([0,5]) # for np.random.seed(10)\n",
    "a1.set_xlim([-3,3]) # for np.random.seed(20)\n",
    "a1.set_ylim([-0.7,0.7])\n",
    "#plt.axhline(x = 0, color = 'black', ls='--', lw=2, label = \"$H_0$\")\n",
    "a1=plt.gca()\n",
    "#a1.set_aspect(1)\n",
    "#ax.get_xaxis().set_visible(False)\n",
    "a1.get_yaxis().set_visible(False)\n",
    "#axes.axis('off')\n",
    "a1.spines['right'].set_visible(False)\n",
    "a1.spines['top'].set_visible(False)\n",
    "a1.spines['left'].set_visible(False)\n",
    "a1.spines['bottom'].set_visible(True)\n",
    "a1.set_xlabel('Sample values, x')\n",
    "\n",
    "f.tight_layout()"
   ]
  },
  {
   "cell_type": "markdown",
   "id": "575f02e8-056f-4e33-84d3-04b0bb9668fd",
   "metadata": {},
   "source": [
    "#### *Independent* samples. One-way **ANOVA** test"
   ]
  },
  {
   "cell_type": "markdown",
   "id": "a9d7f6af-3f15-4354-a53f-95d259ac9a5f",
   "metadata": {},
   "source": [
    "One-way ANOVA test assuming that the samples are independent using the function <a href=\"https://docs.scipy.org/doc/scipy/reference/generated/scipy.stats.f_oneway.html\"> `f_oneway` </a>"
   ]
  },
  {
   "cell_type": "code",
   "execution_count": 15,
   "id": "5edb9292-beb8-465d-9728-b897ff6fb84a",
   "metadata": {},
   "outputs": [
    {
     "name": "stdout",
     "output_type": "stream",
     "text": [
      "P-value = 0.3042394431987156\n"
     ]
    }
   ],
   "source": [
    "from scipy.stats import f_oneway\n",
    "s,p = f_oneway(xA,xB,xC)\n",
    "print('P-value =',p)"
   ]
  },
  {
   "cell_type": "markdown",
   "id": "a8b6e21e-581d-418b-b15b-7687dec3c462",
   "metadata": {},
   "source": [
    "Subsampling one-way ANOVA test (note that the data input format which is different to the functions for 2 samples):"
   ]
  },
  {
   "cell_type": "code",
   "execution_count": 17,
   "id": "3361a8bb-7b74-4bc1-9f55-d2adef086c09",
   "metadata": {},
   "outputs": [
    {
     "name": "stdout",
     "output_type": "stream",
     "text": [
      "P-value for Lp = 5.090611221914559e-30\n",
      "P-value for Lbeta = 0.9973100264845903\n"
     ]
    }
   ],
   "source": [
    "alpha = 0.05\n",
    "Df = 0.01\n",
    "fmin = 0.1\n",
    "fmax = 1.0\n",
    "Rsubsamples = 1000 # Number of sub-samples for a fraction f of the total sample\n",
    "th_beta = 0.5\n",
    "\n",
    "\n",
    "# Subsampling\n",
    "data = [xA,xB,xC]\n",
    "pvalb,R2,slope_Lnpval,ciL_slope_Lnpval,ciU_slope_Lnpval,intercept_Lnpval,ciL_intercept_Lnpval,ciU_intercept_Lnpval,flist,mean_logpval,median_logpval,sd_logpval,logpv_qL,logpv_qU,power,pvalb_beta,R2_beta,slope_Lnpval_beta,ciL_slope_Lnpval_beta,ciU_slope_Lnpval_beta,intercept_Lnpval_beta,ciL_intercept_Lnpval_beta,ciU_intercept_Lnpval_beta = ssSIG.f_oneway_ssSIG(data,Rsubsamples,fmin,fmax,Df, alpha, th_beta)\n",
    "\n",
    "print('P-value for Lp =', pvalb)\n",
    "print('P-value for Lbeta =', pvalb_beta)\n"
   ]
  },
  {
   "cell_type": "markdown",
   "id": "978d7a73-2906-4d2c-b8e5-42280c9e37f5",
   "metadata": {},
   "source": [
    "Plots of the subsampling results:"
   ]
  },
  {
   "cell_type": "code",
   "execution_count": 12,
   "id": "f74fdf7c-a85b-4c47-8f22-990ed6895a83",
   "metadata": {
    "tags": []
   },
   "outputs": [
    {
     "data": {
      "image/png": "[encoded data removed]",
      "text/plain": [
       "<Figure size 432x288 with 2 Axes>"
      ]
     },
     "metadata": {
      "needs_background": "light"
     },
     "output_type": "display_data"
    }
   ],
   "source": [
    "font = {'size'   : 14}\n",
    "plt.rc('font', **font)\n",
    "\n",
    "f, (a0, a1) = plt.subplots(2, 1, gridspec_kw={'height_ratios': [1, 1]})\n",
    "\n",
    "a0.plot(flist,mean_logpval,'o-',label='mean')\n",
    "a0.plot(flist,logpv_qL,'b-')\n",
    "a0.plot(flist,logpv_qU,'b-')\n",
    "a0.fill_between(flist,logpv_qL,logpv_qU, alpha = 0.2)\n",
    "a0.axhline(y = np.log(0.05), color = 'black', ls='--', lw=2)\n",
    "y_pred = [intercept_Lnpval+slope_Lnpval*x for x in flist]\n",
    "a0.plot (flist, y_pred, '-', color='black', linewidth=1.5, label='Fit')\n",
    "\n",
    "    #plt.plot(nAset,np.log(np.zeros(len(nAset))+0.05))\n",
    "a0.set_xlabel('$f$',fontsize=18)\n",
    "a0.set_ylabel('$L_p$',fontsize=18)\n",
    "a0.get_xaxis().set_visible(False)\n",
    "#a0.legend()\n",
    "\n",
    "a1.plot(flist,np.log(1-power),'o',label = 'FNR')\n",
    "y_pred = [intercept_Lnpval_beta+slope_Lnpval_beta*x for x in [min(flist),0.5]]\n",
    "a1.plot([min(flist),0.5], y_pred, '-', color='black', linewidth=1.5, label='Fit')\n",
    "a1.set_xlabel('$f$',fontsize=18)\n",
    "a1.set_ylabel(r'$L_{\\beta}$',fontsize=18)\n",
    "#a1.legend()\n",
    "\n",
    "f.tight_layout()"
   ]
  },
  {
   "cell_type": "markdown",
   "id": "eb47e5ac-3619-42d5-b748-fa18af3274b3",
   "metadata": {},
   "source": [
    "#### *Independent* samples. **Kruskal-Wallis** test"
   ]
  },
  {
   "cell_type": "markdown",
   "id": "e64bedde-3458-4989-815a-0baac0381f31",
   "metadata": {},
   "source": [
    "Kruskal-Wallis test assuming that the samples are independent using the function <a href=\"https://docs.scipy.org/doc/scipy/reference/generated/scipy.stats.kruskal.html\"> `kruskal` </a>"
   ]
  },
  {
   "cell_type": "code",
   "execution_count": 19,
   "id": "166e4a3b-72aa-42a6-94ba-147113afc02e",
   "metadata": {},
   "outputs": [
    {
     "name": "stdout",
     "output_type": "stream",
     "text": [
      "P-value = 0.3088270017035544\n"
     ]
    }
   ],
   "source": [
    "from scipy.stats import kruskal\n",
    "s,p = kruskal(xA,xB,xC)\n",
    "print('P-value =',p)"
   ]
  },
  {
   "cell_type": "markdown",
   "id": "ea50986f-c519-469f-962f-005d83139eee",
   "metadata": {},
   "source": [
    "Subsampling Kruskal-Wallis test (note that the data input format which is different to the functions for 2 samples):"
   ]
  },
  {
   "cell_type": "code",
   "execution_count": 20,
   "id": "2c9e0cd0-1d8b-4b32-8f30-021e0ffe6fd8",
   "metadata": {},
   "outputs": [
    {
     "name": "stdout",
     "output_type": "stream",
     "text": [
      "P-value for Lp = 3.7094528659499744e-28\n",
      "P-value for Lbeta = 0.9604655456394755\n"
     ]
    }
   ],
   "source": [
    "alpha = 0.05\n",
    "Df = 0.01\n",
    "fmin = 0.1\n",
    "fmax = 1.0\n",
    "Rsubsamples = 1000 # Number of sub-samples for a fraction f of the total sample\n",
    "th_beta = 0.5\n",
    "\n",
    "data = [xA,xB,xC]  \n",
    "pvalb,R2,slope_Lnpval,ciL_slope_Lnpval,ciU_slope_Lnpval,intercept_Lnpval,ciL_intercept_Lnpval,ciU_intercept_Lnpval,flist,mean_logpval,median_logpval,sd_logpval,logpv_qL,logpv_qU,power,pvalb_beta,R2_beta,slope_Lnpval_beta,ciL_slope_Lnpval_beta,ciU_slope_Lnpval_beta,intercept_Lnpval_beta,ciL_intercept_Lnpval_beta,ciU_intercept_Lnpval_beta = ssSIG.kruskal_ssSIG(data,Rsubsamples,fmin,fmax,Df, alpha, th_beta)\n",
    "\n",
    "print('P-value for Lp =', pvalb)\n",
    "print('P-value for Lbeta =', pvalb_beta)\n"
   ]
  },
  {
   "cell_type": "markdown",
   "id": "8dfb4172-87e8-4e50-a80c-a083ac4a0682",
   "metadata": {},
   "source": [
    "Plots of the subsampling results:"
   ]
  },
  {
   "cell_type": "code",
   "execution_count": 12,
   "id": "8f965c58-64ce-4943-ad13-4f5c3dce7fb9",
   "metadata": {
    "tags": []
   },
   "outputs": [
    {
     "data": {
      "image/png": "[encoded data removed]",
      "text/plain": [
       "<Figure size 432x288 with 2 Axes>"
      ]
     },
     "metadata": {
      "needs_background": "light"
     },
     "output_type": "display_data"
    }
   ],
   "source": [
    "font = {'size'   : 14}\n",
    "plt.rc('font', **font)\n",
    "\n",
    "f, (a0, a1) = plt.subplots(2, 1, gridspec_kw={'height_ratios': [1, 1]})\n",
    "\n",
    "a0.plot(flist,mean_logpval,'o-',label='mean')\n",
    "a0.plot(flist,logpv_qL,'b-')\n",
    "a0.plot(flist,logpv_qU,'b-')\n",
    "a0.fill_between(flist,logpv_qL,logpv_qU, alpha = 0.2)\n",
    "a0.axhline(y = np.log(0.05), color = 'black', ls='--', lw=2)\n",
    "y_pred = [intercept_Lnpval+slope_Lnpval*x for x in flist]\n",
    "a0.plot (flist, y_pred, '-', color='black', linewidth=1.5, label='Fit')\n",
    "\n",
    "    #plt.plot(nAset,np.log(np.zeros(len(nAset))+0.05))\n",
    "a0.set_xlabel('$f$',fontsize=18)\n",
    "a0.set_ylabel('$L_p$',fontsize=18)\n",
    "a0.get_xaxis().set_visible(False)\n",
    "#a0.legend()\n",
    "\n",
    "a1.plot(flist,np.log(1-power),'o',label = 'FNR')\n",
    "y_pred = [intercept_Lnpval_beta+slope_Lnpval_beta*x for x in [min(flist),0.5]]\n",
    "a1.plot([min(flist),0.5], y_pred, '-', color='black', linewidth=1.5, label='Fit')\n",
    "a1.set_xlabel('$f$',fontsize=18)\n",
    "a1.set_ylabel(r'$L_{\\beta}$',fontsize=18)\n",
    "#a1.legend()\n",
    "\n",
    "f.tight_layout()"
   ]
  },
  {
   "cell_type": "markdown",
   "id": "7a3efc1a-5a62-4c28-aa76-b668028ba8c2",
   "metadata": {},
   "source": [
    "## Multiple testing. **Metabolomics gastric cancer example**"
   ]
  },
  {
   "cell_type": "markdown",
   "id": "57a8112a-290e-477c-be3c-1bc51e7ce197",
   "metadata": {},
   "source": [
    "The data from <a href=\"https://www.nature.com/articles/bjc2015414#Sec9\"> Chan et al BMJ (2016) 114, 59 </a>. Urine NMR data set consisting of 149 named metabolites. The primary outcome for this paper was the urine was Gastric Cancer (GC; n=43) v Benign Tumor (BN; n=40) v Healthy Control (HE; n=40).\n",
    "\n",
    "Here, we apply the subsampling method to identify metabolites that differ between two classes (Healthy vs. Benign) and three classes (Benign vs. Gastric cancer). Analyses for the Healthy vs. Gastric cancer and Benight vs. Gastric cancer camparisons can be run using the function `ssSIG.Multiple_tests_2classes`, as illustrated here for the Healthy vs. Benign comparison. Metabolomic data and results from a previous run are available from the `Data` folder as well.\n",
    "\n",
    "Data is also provided to study the effect of neoadjuvant chemotherapy on breast cancer patients. This is uses a plasma LC-MS dataset from <a href=\"https://europepmc.org/abstract/MED/24114462\"> Hilvo et al. Int. J. of Cancer 134, 1725 (2014). </a> that can be studied with subsampling tests for two variables with the function `ssSIG.Multiple_tests_2classes` as illustrated here for the Healthy vs. Benign comparison in the gastric cancer example."
   ]
  },
  {
   "cell_type": "markdown",
   "id": "1724601b-9063-4d90-9fc8-f7e4ee15398a",
   "metadata": {},
   "source": [
    "### Two classes: Healthy vs. Benign"
   ]
  },
  {
   "cell_type": "markdown",
   "id": "1b52373d-0815-422c-8e91-10d9468a0113",
   "metadata": {},
   "source": [
    "Two options of analysis are offered:\n",
    "- Option 1 reads the metabolomics data and runs the subsampling analysis test. This can take time to run unless the number of subsamples (`Rsubsamples`) is set to a small value which is not recommended (the calculation of the subsample false negative rate is not accurate for a small number of random subsamples).\n",
    "\n",
    "The metabolomic data consists consists of \n",
    "\n",
    "    - Rows: One row for each individual\n",
    "    - Columns: Metabolite columns (named \"M1\", \"M2\",...) and a column named \"class\" with information about the class of each individuals (0: Healthy, 1: Benign).\n",
    "\n",
    "- Option 2 reads the results from subsampling t-tests run previously with.\n",
    "    - alpha = 0.05\n",
    "    - fmin = 0.1\n",
    "    - fmax = 0.7\n",
    "    - Df = 0.05\n",
    "    - Rsubsamples = 5000\n",
    "    - th_beta = 0.5"
   ]
  },
  {
   "cell_type": "markdown",
   "id": "a799cd49-3cd2-4eb0-997f-9debf9a6ac4a",
   "metadata": {},
   "source": [
    "#### Option 1 - Slower: Run the subsampling analysis from metabolomics data "
   ]
  },
  {
   "cell_type": "markdown",
   "id": "c36110ae-73e8-46b5-85f0-ff297cabe848",
   "metadata": {},
   "source": [
    "Read the metabolomic data and define variables needed for the analysis"
   ]
  },
  {
   "cell_type": "code",
   "execution_count": 35,
   "id": "16c75715-e7cc-48fc-b1ad-84c6b8b7cd77",
   "metadata": {},
   "outputs": [],
   "source": [
    "features = pd.read_csv(\"Data/Metabolomics_Healthy_Benign_ST001047.csv\")\n",
    "\n",
    "classname = 'class' # Name of the column with the class variable\n",
    "featurenames = list(features.columns)\n",
    "featurenames.remove(classname) # Extract the name of the metabolites"
   ]
  },
  {
   "cell_type": "markdown",
   "id": "aff55845-4e26-4544-b2ac-41e019b95c17",
   "metadata": {},
   "source": [
    "**t-test subsampling method** (Mann-Whitney (MW), Kolmorov-Smirnov (KS) and a test for the logistic regression coefficient (LR) can be run in a similar way by changing the setting for the `SigMethod` variable below)."
   ]
  },
  {
   "cell_type": "code",
   "execution_count": null,
   "id": "9d97f627-f5df-446b-9ef3-b050b07fd17f",
   "metadata": {
    "tags": []
   },
   "outputs": [],
   "source": [
    "#!!!!!\n",
    "# ONLY RUN THIS IF THE DATA HAS NOT BEEN READ FROM A PREVIOUSLY SAVED FILE!!\n",
    "#!!!!!\n",
    "import time\n",
    "\n",
    "start = time.time()\n",
    "\n",
    "alpha = 0.05\n",
    "fmin = 0.1\n",
    "fmax = 0.7\n",
    "Df = 0.05\n",
    "Rsubsamples = 5000 # Number of sub-samples for a fraction f of the total sample\n",
    "th_beta = 0.5\n",
    "\n",
    "classname = 'class'\n",
    "datain = features #[met_names]\n",
    "#featurenames = met_names #[:-1]\n",
    "\n",
    "SigMethod = \"TT\" # Other possibilities: \"MW\" , \"KS\", \"LR\"\n",
    "R2,slope_Lnpval,ciL_slope_Lnpval,ciU_slope_Lnpval,intercept_Lnpval,ciL_intercept_Lnpval,ciU_intercept_Lnpval,pvalb,pvalb_beta = ssSIG.Multiple_tests_2classes(datain,featurenames,classname,Rsubsamples,fmin,fmax,Df,SigMethod,alpha,th_beta)\n",
    "\n",
    "# Grab Currrent Time After Running the Code\n",
    "end = time.time()\n",
    "\n",
    "#Subtract Start Time from The End Time\n",
    "total_time = end - start\n",
    "print(\"\\n\"+ str(total_time))\n",
    "\n",
    "ssSIG_DF = pd.DataFrame({\"R2\": R2, \"slope_Lnpval\": slope_Lnpval, \"ciL_slope_Lnpval\": ciL_slope_Lnpval, \"ciU_slope_Lnpval\": ciU_slope_Lnpval,\n",
    "                          \"intercept_Lnpval\": intercept_Lnpval, \"ciL_intercept_Lnpval\": ciL_intercept_Lnpval, \"ciU_intercept_Lnpval\": ciU_intercept_Lnpval, \n",
    "                          \"pv-b\":pvalb, \"pvalb_beta\":pvalb_beta})\n",
    "\n",
    "ssSIG_DF['pvMaxSize'] = pv\n",
    "ssSIG_DF['pvMaxSize_corrected'] = pvalBH[1]\n",
    "ssSIG_DF"
   ]
  },
  {
   "cell_type": "markdown",
   "id": "fa3f42cf-c753-4172-a76f-43f196f27816",
   "metadata": {},
   "source": [
    "#### Option 2 - Faster: Read results from the `Data` directory"
   ]
  },
  {
   "cell_type": "code",
   "execution_count": 28,
   "id": "b77ba81d-984c-4399-80ea-e338799902a1",
   "metadata": {
    "tags": []
   },
   "outputs": [],
   "source": [
    "ssSIG_DF = pd.read_csv('Data/Healthy_Benign_ST001047_pvSize_nr_5000_fmin_0.1_fmax_0.7_Df_0.05_TT_.csv')\n"
   ]
  },
  {
   "cell_type": "code",
   "execution_count": 29,
   "id": "c82517a4-39b6-49de-b1c0-033e62fde648",
   "metadata": {
    "tags": []
   },
   "outputs": [
    {
     "data": {
      "text/html": [
       "<div>\n",
       "<style scoped>\n",
       "    .dataframe tbody tr th:only-of-type {\n",
       "        vertical-align: middle;\n",
       "    }\n",
       "\n",
       "    .dataframe tbody tr th {\n",
       "        vertical-align: top;\n",
       "    }\n",
       "\n",
       "    .dataframe thead th {\n",
       "        text-align: right;\n",
       "    }\n",
       "</style>\n",
       "<table border=\"1\" class=\"dataframe\">\n",
       "  <thead>\n",
       "    <tr style=\"text-align: right;\">\n",
       "      <th></th>\n",
       "      <th>met_names</th>\n",
       "      <th>R2</th>\n",
       "      <th>slope_Lnpval</th>\n",
       "      <th>ciL_slope_Lnpval</th>\n",
       "      <th>ciU_slope_Lnpval</th>\n",
       "      <th>intercept_Lnpval</th>\n",
       "      <th>ciL_intercept_Lnpval</th>\n",
       "      <th>ciU_intercept_Lnpval</th>\n",
       "      <th>pv-b</th>\n",
       "      <th>pvalb_beta</th>\n",
       "      <th>pvMaxSize</th>\n",
       "      <th>pvMaxSize_corrected</th>\n",
       "    </tr>\n",
       "  </thead>\n",
       "  <tbody>\n",
       "    <tr>\n",
       "      <th>0</th>\n",
       "      <td>M1</td>\n",
       "      <td>0.990372</td>\n",
       "      <td>-1.290551</td>\n",
       "      <td>-1.380209</td>\n",
       "      <td>-1.200893</td>\n",
       "      <td>-0.810871</td>\n",
       "      <td>-0.847883</td>\n",
       "      <td>-0.773858</td>\n",
       "      <td>1.022211e-11</td>\n",
       "      <td>0.000074</td>\n",
       "      <td>0.106670</td>\n",
       "      <td>0.629061</td>\n",
       "    </tr>\n",
       "    <tr>\n",
       "      <th>1</th>\n",
       "      <td>M2</td>\n",
       "      <td>0.777244</td>\n",
       "      <td>0.443617</td>\n",
       "      <td>0.276282</td>\n",
       "      <td>0.610952</td>\n",
       "      <td>-1.276404</td>\n",
       "      <td>-1.345483</td>\n",
       "      <td>-1.207326</td>\n",
       "      <td>9.999252e-01</td>\n",
       "      <td>0.888681</td>\n",
       "      <td>0.377041</td>\n",
       "      <td>0.718735</td>\n",
       "    </tr>\n",
       "    <tr>\n",
       "      <th>2</th>\n",
       "      <td>M3</td>\n",
       "      <td>0.994242</td>\n",
       "      <td>0.743132</td>\n",
       "      <td>0.703285</td>\n",
       "      <td>0.782978</td>\n",
       "      <td>-1.057000</td>\n",
       "      <td>-1.073449</td>\n",
       "      <td>-1.040550</td>\n",
       "      <td>1.000000e+00</td>\n",
       "      <td>0.999990</td>\n",
       "      <td>0.787628</td>\n",
       "      <td>0.908790</td>\n",
       "    </tr>\n",
       "    <tr>\n",
       "      <th>3</th>\n",
       "      <td>M4</td>\n",
       "      <td>0.991725</td>\n",
       "      <td>0.526066</td>\n",
       "      <td>0.492207</td>\n",
       "      <td>0.559925</td>\n",
       "      <td>-1.001814</td>\n",
       "      <td>-1.015792</td>\n",
       "      <td>-0.987837</td>\n",
       "      <td>1.000000e+00</td>\n",
       "      <td>0.999963</td>\n",
       "      <td>0.576327</td>\n",
       "      <td>0.794387</td>\n",
       "    </tr>\n",
       "    <tr>\n",
       "      <th>4</th>\n",
       "      <td>M5</td>\n",
       "      <td>0.918790</td>\n",
       "      <td>-0.728446</td>\n",
       "      <td>-0.881039</td>\n",
       "      <td>-0.575852</td>\n",
       "      <td>-0.947183</td>\n",
       "      <td>-1.010176</td>\n",
       "      <td>-0.884190</td>\n",
       "      <td>4.501556e-07</td>\n",
       "      <td>0.999999</td>\n",
       "      <td>0.140600</td>\n",
       "      <td>0.659364</td>\n",
       "    </tr>\n",
       "    <tr>\n",
       "      <th>...</th>\n",
       "      <td>...</td>\n",
       "      <td>...</td>\n",
       "      <td>...</td>\n",
       "      <td>...</td>\n",
       "      <td>...</td>\n",
       "      <td>...</td>\n",
       "      <td>...</td>\n",
       "      <td>...</td>\n",
       "      <td>...</td>\n",
       "      <td>...</td>\n",
       "      <td>...</td>\n",
       "      <td>...</td>\n",
       "    </tr>\n",
       "    <tr>\n",
       "      <th>131</th>\n",
       "      <td>M144</td>\n",
       "      <td>0.994004</td>\n",
       "      <td>-0.765111</td>\n",
       "      <td>-0.806980</td>\n",
       "      <td>-0.723243</td>\n",
       "      <td>-0.961314</td>\n",
       "      <td>-0.978598</td>\n",
       "      <td>-0.944030</td>\n",
       "      <td>9.556376e-13</td>\n",
       "      <td>0.998759</td>\n",
       "      <td>0.241182</td>\n",
       "      <td>0.670635</td>\n",
       "    </tr>\n",
       "    <tr>\n",
       "      <th>132</th>\n",
       "      <td>M146</td>\n",
       "      <td>0.176721</td>\n",
       "      <td>-0.264617</td>\n",
       "      <td>-0.667048</td>\n",
       "      <td>0.137813</td>\n",
       "      <td>-1.315413</td>\n",
       "      <td>-1.481542</td>\n",
       "      <td>-1.149284</td>\n",
       "      <td>8.680592e-02</td>\n",
       "      <td>0.000074</td>\n",
       "      <td>0.890554</td>\n",
       "      <td>0.927123</td>\n",
       "    </tr>\n",
       "    <tr>\n",
       "      <th>133</th>\n",
       "      <td>M147</td>\n",
       "      <td>0.871834</td>\n",
       "      <td>0.176800</td>\n",
       "      <td>0.129037</td>\n",
       "      <td>0.224563</td>\n",
       "      <td>-1.034840</td>\n",
       "      <td>-1.054557</td>\n",
       "      <td>-1.015122</td>\n",
       "      <td>9.999955e-01</td>\n",
       "      <td>0.530669</td>\n",
       "      <td>0.387998</td>\n",
       "      <td>0.718735</td>\n",
       "    </tr>\n",
       "    <tr>\n",
       "      <th>134</th>\n",
       "      <td>M148</td>\n",
       "      <td>0.857481</td>\n",
       "      <td>0.508212</td>\n",
       "      <td>0.362226</td>\n",
       "      <td>0.654198</td>\n",
       "      <td>-1.189324</td>\n",
       "      <td>-1.249589</td>\n",
       "      <td>-1.129059</td>\n",
       "      <td>9.999923e-01</td>\n",
       "      <td>0.984349</td>\n",
       "      <td>0.685224</td>\n",
       "      <td>0.839554</td>\n",
       "    </tr>\n",
       "    <tr>\n",
       "      <th>135</th>\n",
       "      <td>M149</td>\n",
       "      <td>0.157423</td>\n",
       "      <td>-0.025482</td>\n",
       "      <td>-0.067019</td>\n",
       "      <td>0.016056</td>\n",
       "      <td>-0.995030</td>\n",
       "      <td>-1.012178</td>\n",
       "      <td>-0.977883</td>\n",
       "      <td>1.008026e-01</td>\n",
       "      <td>0.984734</td>\n",
       "      <td>0.326378</td>\n",
       "      <td>0.677290</td>\n",
       "    </tr>\n",
       "  </tbody>\n",
       "</table>\n",
       "<p>136 rows × 12 columns</p>\n",
       "</div>"
      ],
      "text/plain": [
       "    met_names        R2  slope_Lnpval  ciL_slope_Lnpval  ciU_slope_Lnpval  \\\n",
       "0          M1  0.990372     -1.290551         -1.380209         -1.200893   \n",
       "1          M2  0.777244      0.443617          0.276282          0.610952   \n",
       "2          M3  0.994242      0.743132          0.703285          0.782978   \n",
       "3          M4  0.991725      0.526066          0.492207          0.559925   \n",
       "4          M5  0.918790     -0.728446         -0.881039         -0.575852   \n",
       "..        ...       ...           ...               ...               ...   \n",
       "131      M144  0.994004     -0.765111         -0.806980         -0.723243   \n",
       "132      M146  0.176721     -0.264617         -0.667048          0.137813   \n",
       "133      M147  0.871834      0.176800          0.129037          0.224563   \n",
       "134      M148  0.857481      0.508212          0.362226          0.654198   \n",
       "135      M149  0.157423     -0.025482         -0.067019          0.016056   \n",
       "\n",
       "     intercept_Lnpval  ciL_intercept_Lnpval  ciU_intercept_Lnpval  \\\n",
       "0           -0.810871             -0.847883             -0.773858   \n",
       "1           -1.276404             -1.345483             -1.207326   \n",
       "2           -1.057000             -1.073449             -1.040550   \n",
       "3           -1.001814             -1.015792             -0.987837   \n",
       "4           -0.947183             -1.010176             -0.884190   \n",
       "..                ...                   ...                   ...   \n",
       "131         -0.961314             -0.978598             -0.944030   \n",
       "132         -1.315413             -1.481542             -1.149284   \n",
       "133         -1.034840             -1.054557             -1.015122   \n",
       "134         -1.189324             -1.249589             -1.129059   \n",
       "135         -0.995030             -1.012178             -0.977883   \n",
       "\n",
       "             pv-b  pvalb_beta  pvMaxSize  pvMaxSize_corrected  \n",
       "0    1.022211e-11    0.000074   0.106670             0.629061  \n",
       "1    9.999252e-01    0.888681   0.377041             0.718735  \n",
       "2    1.000000e+00    0.999990   0.787628             0.908790  \n",
       "3    1.000000e+00    0.999963   0.576327             0.794387  \n",
       "4    4.501556e-07    0.999999   0.140600             0.659364  \n",
       "..            ...         ...        ...                  ...  \n",
       "131  9.556376e-13    0.998759   0.241182             0.670635  \n",
       "132  8.680592e-02    0.000074   0.890554             0.927123  \n",
       "133  9.999955e-01    0.530669   0.387998             0.718735  \n",
       "134  9.999923e-01    0.984349   0.685224             0.839554  \n",
       "135  1.008026e-01    0.984734   0.326378             0.677290  \n",
       "\n",
       "[136 rows x 12 columns]"
      ]
     },
     "execution_count": 29,
     "metadata": {},
     "output_type": "execute_result"
    }
   ],
   "source": [
    "ssSIG_DF"
   ]
  },
  {
   "cell_type": "markdown",
   "id": "0e3a7984-a991-4364-93d9-23f970788951",
   "metadata": {},
   "source": [
    "#### Correction for multiple testing and simple analysis"
   ]
  },
  {
   "cell_type": "markdown",
   "id": "c35967a4-0d6b-40be-9b1d-b20e83220c95",
   "metadata": {},
   "source": [
    "Once we have calculated the `ssSIG_DF` dataframe (option 1) or read it (option 2), we add columns for corrected P-values for the slope of $\\bar{L}_p$ and $L_{\\beta}$ (false discovery rate, Benjamini-Hochberg)"
   ]
  },
  {
   "cell_type": "code",
   "execution_count": 33,
   "id": "0940b1f2-bab4-415a-b7f1-3d53db9b55e5",
   "metadata": {
    "tags": []
   },
   "outputs": [],
   "source": [
    "alphasig=0.05\n",
    "pvbcorrected = multipletests(ssSIG_DF['pv-b'], alpha=alphasig, method = 'fdr_bh')\n",
    "ssSIG_DF['pv-b-corrected'] = pvbcorrected[1]\n",
    "\n",
    "pvbcorrected_beta = multipletests(ssSIG_DF['pvalb_beta'].dropna(), alpha=alphasig, method = 'fdr_bh')\n",
    "ssSIG_DF['pvalb_beta-corrected'] = pvbcorrected_beta[1]"
   ]
  },
  {
   "cell_type": "code",
   "execution_count": 34,
   "id": "9b627c10-17c9-4cf3-9c61-2d1aee5b4de9",
   "metadata": {},
   "outputs": [
    {
     "name": "stdout",
     "output_type": "stream",
     "text": [
      "Number of metabolites with $p<alpha$:16\n",
      "Number of metabolites with $q<alpha$ (FDR corrected):6\n",
      "Number of metabolites with $q_p<alpha$ (FDR corrected):60\n",
      "Number of metabolites with $q_beta<alpha$ (FDR corrected):41\n",
      "Number of metabolites with $q_p<alpha$ and $q_beta<alpha$ (FDR corrected):33\n"
     ]
    }
   ],
   "source": [
    "print(\"Number of metabolites with $p<alpha$:\" + str(np.count_nonzero(ssSIG_DF['pvMaxSize']<alphasig)))\n",
    "print(\"Number of metabolites with $q<alpha$ (FDR corrected):\" + str(np.count_nonzero(ssSIG_DF['pvMaxSize_corrected']<alphasig)))\n",
    "print(\"Number of metabolites with $q_p<alpha$ (FDR corrected):\" + str(np.count_nonzero(ssSIG_DF['pv-b-corrected']<alphasig)))\n",
    "print(\"Number of metabolites with $q_beta<alpha$ (FDR corrected):\" + str(np.count_nonzero(ssSIG_DF['pvalb_beta-corrected']<alphasig)))\n",
    "print(\"Number of metabolites with $q_p<alpha$ and $q_beta<alpha$ (FDR corrected):\" + str(np.count_nonzero((ssSIG_DF['pvalb_beta-corrected']<alphasig)&(ssSIG_DF['pv-b-corrected']<alphasig))))"
   ]
  },
  {
   "cell_type": "markdown",
   "id": "fcb3bb5f-c20f-474b-b72a-e2cdde8f8a19",
   "metadata": {},
   "source": [
    "#### Plot of corrected P-values for the slope of $\\bar{L}_p$ and $L_{\\beta}$"
   ]
  },
  {
   "cell_type": "code",
   "execution_count": 32,
   "id": "bd91c698-4c2f-4950-9351-8eb7dc70979d",
   "metadata": {},
   "outputs": [
    {
     "data": {
      "text/plain": [
       "Text(0, 0.5, '$\\\\ln q_p$')"
      ]
     },
     "execution_count": 32,
     "metadata": {},
     "output_type": "execute_result"
    },
    {
     "data": {
      "image/png": "[encoded data removed]",
      "text/plain": [
       "<Figure size 432x288 with 1 Axes>"
      ]
     },
     "metadata": {
      "needs_background": "light"
     },
     "output_type": "display_data"
    }
   ],
   "source": [
    "###---- Annotation of points: https://matplotlib.org/stable/tutorials/text/annotations.html#sphx-glr-tutorials-text-annotations-py\n",
    "\n",
    "## Setting for plots\n",
    "font = {'size'   : 14}\n",
    "plt.rc('font', **font)\n",
    "\n",
    "plt.figure()\n",
    "#plt.plot(np.log(ssSIG_DF['pvalb_beta-corrected']),np.log(ssSIG_DF['pv-b-corrected']),'o')\n",
    "plt.plot(np.log(ssSIG_DF[(ssSIG_DF['pvalb_beta-corrected']>=0.05)&(ssSIG_DF['pv-b-corrected']<0.05)]['pvalb_beta-corrected']),\n",
    "         np.log(ssSIG_DF[(ssSIG_DF['pvalb_beta-corrected']>=0.05)&(ssSIG_DF['pv-b-corrected']<0.05)]['pv-b-corrected']),'^')\n",
    "\n",
    "plt.plot(np.log(ssSIG_DF[(ssSIG_DF['pvalb_beta-corrected']<0.05)&(ssSIG_DF['pv-b-corrected']>=0.05)]['pvalb_beta-corrected']),\n",
    "         np.log(ssSIG_DF[(ssSIG_DF['pvalb_beta-corrected']<0.05)&(ssSIG_DF['pv-b-corrected']>=0.05)]['pv-b-corrected']),'vm')\n",
    "\n",
    "plt.plot(np.log(ssSIG_DF[(ssSIG_DF['pvalb_beta-corrected']<0.05)&(ssSIG_DF['pv-b-corrected']<0.05)]['pvalb_beta-corrected']),\n",
    "         np.log(ssSIG_DF[(ssSIG_DF['pvalb_beta-corrected']<0.05)&(ssSIG_DF['pv-b-corrected']<0.05)]['pv-b-corrected']),'ys')\n",
    "plt.plot(np.log(ssSIG_DF[ssSIG_DF['pvMaxSize_corrected']<0.05]['pvalb_beta-corrected']),np.log(ssSIG_DF[ssSIG_DF['pvMaxSize_corrected']<0.05]['pv-b-corrected']),'.r')\n",
    "plt.plot(np.log(ssSIG_DF[(ssSIG_DF['pv-b-corrected']>=0.05)&(ssSIG_DF['pvalb_beta-corrected']>=0.05)]['pvalb_beta-corrected']),\n",
    "         np.log(ssSIG_DF[(ssSIG_DF['pv-b-corrected']>=0.05)&(ssSIG_DF['pvalb_beta-corrected']>=0.05)]['pv-b-corrected']),'ko')\n",
    "\n",
    "plt.axhline(y = np.log(0.05), color = 'black', ls='--', lw=1)\n",
    "plt.axvline(x = np.log(0.05), color = 'black', ls='--', lw=1)\n",
    "\n",
    "plt.xlabel(r'ln $q_{\\beta}$',fontsize=18)\n",
    "plt.ylabel('$\\ln q_p$',fontsize=18) #('intercept $ln(p_v)$')"
   ]
  },
  {
   "cell_type": "markdown",
   "id": "c2a8c549-1e02-48c9-b9c0-1deb75bb921b",
   "metadata": {},
   "source": [
    "### Three classes: Healthy, benign and gastric cancer"
   ]
  },
  {
   "cell_type": "markdown",
   "id": "2da2555e-fd6f-43cc-bae1-247c3d1f6c7a",
   "metadata": {},
   "source": [
    "#### Option 1 - Slower: Run the subsampling analysis from metabolomics data "
   ]
  },
  {
   "cell_type": "code",
   "execution_count": 22,
   "id": "61b616ec-d61d-4cf5-9467-702a6e84545c",
   "metadata": {},
   "outputs": [],
   "source": [
    "features = pd.read_csv(\"Data/Metabolomics_Healthy_Benign_GastricCancer_ST001047.csv\")\n",
    "\n",
    "classname = 'class'\n",
    "featurenames = list(features.columns)\n",
    "featurenames.remove(classname)"
   ]
  },
  {
   "cell_type": "code",
   "execution_count": null,
   "id": "83861171-e8c5-403b-8b14-0dd87960aec3",
   "metadata": {
    "tags": []
   },
   "outputs": [],
   "source": [
    "#!!!!!\n",
    "# ONLY RUN THIS IF THE DATA HAS NOT BEEN READ FROM A PREVIOUSLY SAVED FILE!!\n",
    "#!!!!!\n",
    "import time\n",
    "\n",
    "start = time.time()\n",
    "\n",
    "alpha = 0.05\n",
    "Df = 0.05\n",
    "fmin = 0.1\n",
    "fmax = 0.7\n",
    "Rsubsamples = 5000 #5000 # Number of sub-samples for a fraction f of the total sample\n",
    "th_beta = 0.5\n",
    "\n",
    "classname = 'class'\n",
    "datain = features #[met_names]\n",
    "#featurenames = met_names #[:-1]\n",
    "\n",
    "SigMethod = \"ANOVA\"  #Other possibilities: \"KW\" \n",
    "R2,slope_Lnpval,ciL_slope_Lnpval,ciU_slope_Lnpval,intercept_Lnpval,ciL_intercept_Lnpval,ciU_intercept_Lnpval,pvalb,pvalb_beta = ssSIG.Multiple_tests_3classes(datain,featurenames,classname,Rsubsamples,fmin,fmax,Df,SigMethod,alpha,th_beta)\n",
    "\n",
    "# Grab Currrent Time After Running the Code\n",
    "end = time.time()\n",
    "\n",
    "#Subtract Start Time from The End Time\n",
    "total_time = end - start\n",
    "print(\"\\n\"+ str(total_time))\n",
    "\n",
    "ssSIG_DF = pd.DataFrame({\"R2\": R2, \"slope_Lnpval\": slope_Lnpval, \"ciL_slope_Lnpval\": ciL_slope_Lnpval, \"ciU_slope_Lnpval\": ciU_slope_Lnpval,\n",
    "                          \"intercept_Lnpval\": intercept_Lnpval, \"ciL_intercept_Lnpval\": ciL_intercept_Lnpval, \"ciU_intercept_Lnpval\": ciU_intercept_Lnpval, \n",
    "                          \"pv-b\":pvalb, \"pvalb_beta\":pvalb_beta})\n",
    "\n",
    "ssSIG_DF['pvMaxSize'] = pv\n",
    "ssSIG_DF['pvMaxSize_corrected'] = pvalBH[1]\n",
    "ssSIG_DF"
   ]
  },
  {
   "cell_type": "markdown",
   "id": "f35dde91-3735-4cb2-a17d-a6bb60b797cb",
   "metadata": {},
   "source": [
    "#### Option 2 - Faster: Read results from the `Data` directory"
   ]
  },
  {
   "cell_type": "code",
   "execution_count": 36,
   "id": "d49c15b4-f779-45be-9277-eac6c2044818",
   "metadata": {
    "tags": []
   },
   "outputs": [],
   "source": [
    "ssSIG_DF = pd.read_csv('Data/Healthy_Benign_GastricCancer_ST001047_pvSize_nr_5000_fmin_0.1_fmax_0.7_Df_0.05_ANOVA_.csv')\n"
   ]
  },
  {
   "cell_type": "markdown",
   "id": "16a2fd24-1ebe-43b0-9760-105f43bc2055",
   "metadata": {},
   "source": [
    "#### Correction for multiple testing and simple analysis"
   ]
  },
  {
   "cell_type": "markdown",
   "id": "69efc1ac-5f82-494b-90d6-5056e0ff4f8a",
   "metadata": {},
   "source": [
    "Once we have calculated the `ssSIG_DF` dataframe (option 1) or read it (option 2), we add columns for corrected P-values for the slope of $\\bar{L}_p$ and $L_{\\beta}$ (false discovery rate, Benjamini-Hochberg)"
   ]
  },
  {
   "cell_type": "code",
   "execution_count": 37,
   "id": "4608eb85-3816-4c98-806c-e0313fb4e62d",
   "metadata": {
    "tags": []
   },
   "outputs": [],
   "source": [
    "alphasig=0.05\n",
    "pvbcorrected = multipletests(ssSIG_DF['pv-b'], alpha=alphasig, method = 'fdr_bh')\n",
    "ssSIG_DF['pv-b-corrected'] = pvbcorrected[1]\n",
    "\n",
    "pvbcorrected_beta = multipletests(ssSIG_DF['pvalb_beta'].dropna(), alpha=alphasig, method = 'fdr_bh')\n",
    "ssSIG_DF['pvalb_beta-corrected'] = pvbcorrected_beta[1]"
   ]
  },
  {
   "cell_type": "code",
   "execution_count": 38,
   "id": "c9fed9c6-f96d-4cdc-af52-58c1dfc52b13",
   "metadata": {},
   "outputs": [
    {
     "name": "stdout",
     "output_type": "stream",
     "text": [
      "Number of metabolites with $p<alpha$:34\n",
      "Number of metabolites with $q<alpha$ (FDR corrected):15\n",
      "Number of metabolites with $q_p<alpha$ (FDR corrected):71\n",
      "Number of metabolites with $q_beta<alpha$ (FDR corrected):57\n",
      "Number of metabolites with $q_p<alpha$ and $q_beta<alpha$ (FDR corrected):57\n"
     ]
    }
   ],
   "source": [
    "print(\"Number of metabolites with $p<alpha$:\" + str(np.count_nonzero(ssSIG_DF['pvMaxSize']<alphasig)))\n",
    "print(\"Number of metabolites with $q<alpha$ (FDR corrected):\" + str(np.count_nonzero(ssSIG_DF['pvMaxSize_corrected']<alphasig)))\n",
    "print(\"Number of metabolites with $q_p<alpha$ (FDR corrected):\" + str(np.count_nonzero(ssSIG_DF['pv-b-corrected']<alphasig)))\n",
    "print(\"Number of metabolites with $q_beta<alpha$ (FDR corrected):\" + str(np.count_nonzero(ssSIG_DF['pvalb_beta-corrected']<alphasig)))\n",
    "print(\"Number of metabolites with $q_p<alpha$ and $q_beta<alpha$ (FDR corrected):\" + str(np.count_nonzero((ssSIG_DF['pvalb_beta-corrected']<alphasig)&(ssSIG_DF['pv-b-corrected']<alphasig))))"
   ]
  },
  {
   "cell_type": "markdown",
   "id": "a1b4aae9-94cd-438e-b4f9-a8100d307479",
   "metadata": {},
   "source": [
    "#### Plot of corrected P-values for the slope of $\\bar{L}_p$ and $L_{\\beta}$"
   ]
  },
  {
   "cell_type": "code",
   "execution_count": 39,
   "id": "2c3fce23-9a47-4d0a-829c-a43d6a94f236",
   "metadata": {},
   "outputs": [
    {
     "data": {
      "text/plain": [
       "Text(0, 0.5, '$\\\\ln q_p$')"
      ]
     },
     "execution_count": 39,
     "metadata": {},
     "output_type": "execute_result"
    },
    {
     "data": {
      "image/png": "[encoded data removed]",
      "text/plain": [
       "<Figure size 432x288 with 1 Axes>"
      ]
     },
     "metadata": {
      "needs_background": "light"
     },
     "output_type": "display_data"
    }
   ],
   "source": [
    "###---- Annotation of points: https://matplotlib.org/stable/tutorials/text/annotations.html#sphx-glr-tutorials-text-annotations-py\n",
    "\n",
    "## Setting for plots\n",
    "font = {'size'   : 14}\n",
    "plt.rc('font', **font)\n",
    "\n",
    "plt.figure()\n",
    "plt.plot(np.log(ssSIG_DF[(ssSIG_DF['pvalb_beta-corrected']>=0.05)&(ssSIG_DF['pv-b-corrected']<0.05)]['pvalb_beta-corrected']),\n",
    "         np.log(ssSIG_DF[(ssSIG_DF['pvalb_beta-corrected']>=0.05)&(ssSIG_DF['pv-b-corrected']<0.05)]['pv-b-corrected']),'^')\n",
    "\n",
    "plt.plot(np.log(ssSIG_DF[(ssSIG_DF['pvalb_beta-corrected']<0.05)&(ssSIG_DF['pv-b-corrected']>=0.05)]['pvalb_beta-corrected']),\n",
    "         np.log(ssSIG_DF[(ssSIG_DF['pvalb_beta-corrected']<0.05)&(ssSIG_DF['pv-b-corrected']>=0.05)]['pv-b-corrected']),'vm')\n",
    "\n",
    "plt.plot(np.log(ssSIG_DF[(ssSIG_DF['pvalb_beta-corrected']<0.05)&(ssSIG_DF['pv-b-corrected']<0.05)]['pvalb_beta-corrected']),\n",
    "         np.log(ssSIG_DF[(ssSIG_DF['pvalb_beta-corrected']<0.05)&(ssSIG_DF['pv-b-corrected']<0.05)]['pv-b-corrected']),'ys')\n",
    "plt.plot(np.log(ssSIG_DF[ssSIG_DF['pvMaxSize_corrected']<0.05]['pvalb_beta-corrected']),np.log(ssSIG_DF[ssSIG_DF['pvMaxSize_corrected']<0.05]['pv-b-corrected']),'.r')\n",
    "plt.plot(np.log(ssSIG_DF[(ssSIG_DF['pv-b-corrected']>=0.05)&(ssSIG_DF['pvalb_beta-corrected']>=0.05)]['pvalb_beta-corrected']),\n",
    "         np.log(ssSIG_DF[(ssSIG_DF['pv-b-corrected']>=0.05)&(ssSIG_DF['pvalb_beta-corrected']>=0.05)]['pv-b-corrected']),'ko')\n",
    "\n",
    "plt.axhline(y = np.log(0.05), color = 'black', ls='--', lw=1)\n",
    "plt.axvline(x = np.log(0.05), color = 'black', ls='--', lw=1)\n",
    "\n",
    "plt.xlabel(r'ln $q_{\\beta}$',fontsize=18)\n",
    "plt.ylabel('$\\ln q_p$',fontsize=18) #('intercept $ln(p_v)$')\n",
    "\n"
   ]
  }
 ],
 "metadata": {
  "kernelspec": {
   "display_name": "Python 3 (ipykernel)",
   "language": "python",
   "name": "python3"
  },
  "language_info": {
   "codemirror_mode": {
    "name": "ipython",
    "version": 3
   },
   "file_extension": ".py",
   "mimetype": "text/x-python",
   "name": "python",
   "nbconvert_exporter": "python",
   "pygments_lexer": "ipython3",
   "version": "3.9.12"
  }
 },
 "nbformat": 4,
 "nbformat_minor": 5
}
